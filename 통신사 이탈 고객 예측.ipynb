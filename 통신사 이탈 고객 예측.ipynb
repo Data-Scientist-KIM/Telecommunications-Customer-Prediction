{
 "cells": [
  {
   "cell_type": "markdown",
   "id": "d094ffb5",
   "metadata": {},
   "source": [
    "# 통신사 이탈 고객 예측(Telecommunication company analysis)"
   ]
  },
  {
   "cell_type": "markdown",
   "id": "3f093156",
   "metadata": {},
   "source": [
    "## 문제상황  \n",
    "\n",
    "A통신사는 업계 1위의 통신사였으나 그 명성이 무색해져가고 있다. 다양한 경쟁사가 등장함에 따라 M/S(시장점유율)가 떨어지고 있고, 타 통신사로의 이탈 고객이  \n",
    "증가하고 있는 상황이다. 이에 이탈 가능성이 높은 고객을 예측하고, 해지 방어 활동들을 전개하려고 한다."
   ]
  },
  {
   "cell_type": "markdown",
   "id": "aab15541",
   "metadata": {},
   "source": [
    "## 문제 해결 프로세스  \n",
    "\n",
    "1. 문제정의\n",
    "\n",
    "- 고객 이탈\n",
    "\n",
    "2. 기대효과\n",
    "\n",
    "- 고객 이탈 방어  \n",
    "\n",
    "3. 해결방안\n",
    "\n",
    "- 이탈 가능성 높은 고객 예측 및 해지 방어\n",
    "\n",
    "4. 성과측정\n",
    "\n",
    "- 이탈 가능성 높은 고객에 대해 관리 전/후 이탈률 모니터링"
   ]
  },
  {
   "cell_type": "code",
   "execution_count": 1,
   "id": "ba0470ea",
   "metadata": {},
   "outputs": [
    {
     "data": {
      "text/html": [
       "<div>\n",
       "<style scoped>\n",
       "    .dataframe tbody tr th:only-of-type {\n",
       "        vertical-align: middle;\n",
       "    }\n",
       "\n",
       "    .dataframe tbody tr th {\n",
       "        vertical-align: top;\n",
       "    }\n",
       "\n",
       "    .dataframe thead th {\n",
       "        text-align: right;\n",
       "    }\n",
       "</style>\n",
       "<table border=\"1\" class=\"dataframe\">\n",
       "  <thead>\n",
       "    <tr style=\"text-align: right;\">\n",
       "      <th></th>\n",
       "      <th>customerID</th>\n",
       "      <th>gender</th>\n",
       "      <th>SeniorCitizen</th>\n",
       "      <th>Partner</th>\n",
       "      <th>Dependents</th>\n",
       "      <th>tenure</th>\n",
       "      <th>PhoneService</th>\n",
       "      <th>MultipleLines</th>\n",
       "      <th>InternetService</th>\n",
       "      <th>OnlineSecurity</th>\n",
       "      <th>...</th>\n",
       "      <th>DeviceProtection</th>\n",
       "      <th>TechSupport</th>\n",
       "      <th>StreamingTV</th>\n",
       "      <th>StreamingMovies</th>\n",
       "      <th>Contract</th>\n",
       "      <th>PaperlessBilling</th>\n",
       "      <th>PaymentMethod</th>\n",
       "      <th>MonthlyCharges</th>\n",
       "      <th>TotalCharges</th>\n",
       "      <th>Churn</th>\n",
       "    </tr>\n",
       "  </thead>\n",
       "  <tbody>\n",
       "    <tr>\n",
       "      <th>0</th>\n",
       "      <td>7590-VHVEG</td>\n",
       "      <td>Female</td>\n",
       "      <td>0</td>\n",
       "      <td>Yes</td>\n",
       "      <td>No</td>\n",
       "      <td>1</td>\n",
       "      <td>No</td>\n",
       "      <td>No phone service</td>\n",
       "      <td>DSL</td>\n",
       "      <td>No</td>\n",
       "      <td>...</td>\n",
       "      <td>No</td>\n",
       "      <td>No</td>\n",
       "      <td>No</td>\n",
       "      <td>No</td>\n",
       "      <td>Month-to-month</td>\n",
       "      <td>Yes</td>\n",
       "      <td>Electronic check</td>\n",
       "      <td>29.85</td>\n",
       "      <td>29.85</td>\n",
       "      <td>No</td>\n",
       "    </tr>\n",
       "    <tr>\n",
       "      <th>1</th>\n",
       "      <td>5575-GNVDE</td>\n",
       "      <td>Male</td>\n",
       "      <td>0</td>\n",
       "      <td>No</td>\n",
       "      <td>No</td>\n",
       "      <td>34</td>\n",
       "      <td>Yes</td>\n",
       "      <td>No</td>\n",
       "      <td>DSL</td>\n",
       "      <td>Yes</td>\n",
       "      <td>...</td>\n",
       "      <td>Yes</td>\n",
       "      <td>No</td>\n",
       "      <td>No</td>\n",
       "      <td>No</td>\n",
       "      <td>One year</td>\n",
       "      <td>No</td>\n",
       "      <td>Mailed check</td>\n",
       "      <td>56.95</td>\n",
       "      <td>1889.5</td>\n",
       "      <td>No</td>\n",
       "    </tr>\n",
       "    <tr>\n",
       "      <th>2</th>\n",
       "      <td>3668-QPYBK</td>\n",
       "      <td>Male</td>\n",
       "      <td>0</td>\n",
       "      <td>No</td>\n",
       "      <td>No</td>\n",
       "      <td>2</td>\n",
       "      <td>Yes</td>\n",
       "      <td>No</td>\n",
       "      <td>DSL</td>\n",
       "      <td>Yes</td>\n",
       "      <td>...</td>\n",
       "      <td>No</td>\n",
       "      <td>No</td>\n",
       "      <td>No</td>\n",
       "      <td>No</td>\n",
       "      <td>Month-to-month</td>\n",
       "      <td>Yes</td>\n",
       "      <td>Mailed check</td>\n",
       "      <td>53.85</td>\n",
       "      <td>108.15</td>\n",
       "      <td>Yes</td>\n",
       "    </tr>\n",
       "    <tr>\n",
       "      <th>3</th>\n",
       "      <td>7795-CFOCW</td>\n",
       "      <td>Male</td>\n",
       "      <td>0</td>\n",
       "      <td>No</td>\n",
       "      <td>No</td>\n",
       "      <td>45</td>\n",
       "      <td>No</td>\n",
       "      <td>No phone service</td>\n",
       "      <td>DSL</td>\n",
       "      <td>Yes</td>\n",
       "      <td>...</td>\n",
       "      <td>Yes</td>\n",
       "      <td>Yes</td>\n",
       "      <td>No</td>\n",
       "      <td>No</td>\n",
       "      <td>One year</td>\n",
       "      <td>No</td>\n",
       "      <td>Bank transfer (automatic)</td>\n",
       "      <td>42.30</td>\n",
       "      <td>1840.75</td>\n",
       "      <td>No</td>\n",
       "    </tr>\n",
       "    <tr>\n",
       "      <th>4</th>\n",
       "      <td>9237-HQITU</td>\n",
       "      <td>Female</td>\n",
       "      <td>0</td>\n",
       "      <td>No</td>\n",
       "      <td>No</td>\n",
       "      <td>2</td>\n",
       "      <td>Yes</td>\n",
       "      <td>No</td>\n",
       "      <td>Fiber optic</td>\n",
       "      <td>No</td>\n",
       "      <td>...</td>\n",
       "      <td>No</td>\n",
       "      <td>No</td>\n",
       "      <td>No</td>\n",
       "      <td>No</td>\n",
       "      <td>Month-to-month</td>\n",
       "      <td>Yes</td>\n",
       "      <td>Electronic check</td>\n",
       "      <td>70.70</td>\n",
       "      <td>151.65</td>\n",
       "      <td>Yes</td>\n",
       "    </tr>\n",
       "  </tbody>\n",
       "</table>\n",
       "<p>5 rows × 21 columns</p>\n",
       "</div>"
      ],
      "text/plain": [
       "   customerID  gender  SeniorCitizen Partner Dependents  tenure PhoneService  \\\n",
       "0  7590-VHVEG  Female              0     Yes         No       1           No   \n",
       "1  5575-GNVDE    Male              0      No         No      34          Yes   \n",
       "2  3668-QPYBK    Male              0      No         No       2          Yes   \n",
       "3  7795-CFOCW    Male              0      No         No      45           No   \n",
       "4  9237-HQITU  Female              0      No         No       2          Yes   \n",
       "\n",
       "      MultipleLines InternetService OnlineSecurity  ... DeviceProtection  \\\n",
       "0  No phone service             DSL             No  ...               No   \n",
       "1                No             DSL            Yes  ...              Yes   \n",
       "2                No             DSL            Yes  ...               No   \n",
       "3  No phone service             DSL            Yes  ...              Yes   \n",
       "4                No     Fiber optic             No  ...               No   \n",
       "\n",
       "  TechSupport StreamingTV StreamingMovies        Contract PaperlessBilling  \\\n",
       "0          No          No              No  Month-to-month              Yes   \n",
       "1          No          No              No        One year               No   \n",
       "2          No          No              No  Month-to-month              Yes   \n",
       "3         Yes          No              No        One year               No   \n",
       "4          No          No              No  Month-to-month              Yes   \n",
       "\n",
       "               PaymentMethod MonthlyCharges  TotalCharges Churn  \n",
       "0           Electronic check          29.85         29.85    No  \n",
       "1               Mailed check          56.95        1889.5    No  \n",
       "2               Mailed check          53.85        108.15   Yes  \n",
       "3  Bank transfer (automatic)          42.30       1840.75    No  \n",
       "4           Electronic check          70.70        151.65   Yes  \n",
       "\n",
       "[5 rows x 21 columns]"
      ]
     },
     "execution_count": 1,
     "metadata": {},
     "output_type": "execute_result"
    }
   ],
   "source": [
    "import pandas as pd\n",
    "import warnings\n",
    "warnings.filterwarnings('ignore')\n",
    "\n",
    "df = pd.read_csv('C:/Users/USER/Desktop/Practice Project - ML/통신사 이탈 고객 예측/통신사 이탈 고객 예측.csv')\n",
    "df.head()"
   ]
  },
  {
   "cell_type": "code",
   "execution_count": 2,
   "id": "73a16910",
   "metadata": {},
   "outputs": [
    {
     "name": "stdout",
     "output_type": "stream",
     "text": [
      "<class 'pandas.core.frame.DataFrame'>\n",
      "RangeIndex: 7043 entries, 0 to 7042\n",
      "Data columns (total 21 columns):\n",
      " #   Column            Non-Null Count  Dtype  \n",
      "---  ------            --------------  -----  \n",
      " 0   customerID        7043 non-null   object \n",
      " 1   gender            7043 non-null   object \n",
      " 2   SeniorCitizen     7043 non-null   int64  \n",
      " 3   Partner           7043 non-null   object \n",
      " 4   Dependents        7043 non-null   object \n",
      " 5   tenure            7043 non-null   int64  \n",
      " 6   PhoneService      7043 non-null   object \n",
      " 7   MultipleLines     7043 non-null   object \n",
      " 8   InternetService   7043 non-null   object \n",
      " 9   OnlineSecurity    7043 non-null   object \n",
      " 10  OnlineBackup      7043 non-null   object \n",
      " 11  DeviceProtection  7043 non-null   object \n",
      " 12  TechSupport       7043 non-null   object \n",
      " 13  StreamingTV       7043 non-null   object \n",
      " 14  StreamingMovies   7043 non-null   object \n",
      " 15  Contract          7043 non-null   object \n",
      " 16  PaperlessBilling  7043 non-null   object \n",
      " 17  PaymentMethod     7043 non-null   object \n",
      " 18  MonthlyCharges    7043 non-null   float64\n",
      " 19  TotalCharges      7043 non-null   object \n",
      " 20  Churn             7043 non-null   object \n",
      "dtypes: float64(1), int64(2), object(18)\n",
      "memory usage: 1.1+ MB\n"
     ]
    }
   ],
   "source": [
    "df.info()"
   ]
  },
  {
   "cell_type": "code",
   "execution_count": 3,
   "id": "ea72fabe",
   "metadata": {},
   "outputs": [
    {
     "data": {
      "text/plain": [
       "customerID          0\n",
       "gender              0\n",
       "SeniorCitizen       0\n",
       "Partner             0\n",
       "Dependents          0\n",
       "tenure              0\n",
       "PhoneService        0\n",
       "MultipleLines       0\n",
       "InternetService     0\n",
       "OnlineSecurity      0\n",
       "OnlineBackup        0\n",
       "DeviceProtection    0\n",
       "TechSupport         0\n",
       "StreamingTV         0\n",
       "StreamingMovies     0\n",
       "Contract            0\n",
       "PaperlessBilling    0\n",
       "PaymentMethod       0\n",
       "MonthlyCharges      0\n",
       "TotalCharges        0\n",
       "Churn               0\n",
       "dtype: int64"
      ]
     },
     "execution_count": 3,
     "metadata": {},
     "output_type": "execute_result"
    }
   ],
   "source": [
    "df.isnull().sum()"
   ]
  },
  {
   "cell_type": "markdown",
   "id": "35b396e3",
   "metadata": {},
   "source": [
    "#### 변수 해석 3가지  \n",
    "\n",
    "1. 결측치 존재 여부\n",
    "\n",
    "- 전체 데이터에서 결측치가 존재하지 않는다.\n",
    "\n",
    "- 만약, 결측치가 존재했다면 전체 데이터의 약 5%정도 미만의 개수는 제거해도 좋다.\n",
    "\n",
    "- 결측치를 대체하는 경우, object형태는 최빈값으로 대체하고, int64 or float64형태는 평균으로 대체하거나 KNN을 사용할 수 있다.\n",
    "\n",
    "2. 데이터 타입 설명\n",
    "\n",
    "- 종속변수는 object형태, 독립변수는 object, int64, float64형태로 구성되어 있다. 독립변수 object타입은 인코딩을 통하여 변환해줄 필요가 있어보인다.\n",
    "\n",
    "3. 컬럼 설명\n",
    "\n",
    "- customerID : 고객ID\n",
    "- gender : 성별\n",
    "- SeniorCitizen : 노인여부\n",
    "- Partner : 결혼여부\n",
    "- Dependents : 부양가족여부\n",
    "- tenure : 회원개월수\n",
    "- PhoneService : 전화서비스 여부\n",
    "- MultipleLines : 다회선 여부\n",
    "- PhysActivity : 인터넷 서비스 공급자\n",
    "- OnlineSecurity : 온라인 보안 여부\n",
    "- OnlineBackup : 온라인 백업 여부\n",
    "- DeviceProtection : 기기보험 여부\n",
    "- TechSupport : 기술지원 여부\n",
    "- StreamingTV : 스트리밍TV 여부\n",
    "- StreamingMovies : 스트리밍영화 여부\n",
    "- Contract : 계약기간\n",
    "- PaperlessBilling : 종이없는청구여부\n",
    "- PaymentMethod : 결제수단\n",
    "- MonthlyCharges : 월청구금액\n",
    "- TotalCharges : 청구된 총 금액\n",
    "- Churn : 이탈여부"
   ]
  },
  {
   "cell_type": "code",
   "execution_count": 4,
   "id": "b01f7980",
   "metadata": {},
   "outputs": [
    {
     "data": {
      "text/html": [
       "<div>\n",
       "<style scoped>\n",
       "    .dataframe tbody tr th:only-of-type {\n",
       "        vertical-align: middle;\n",
       "    }\n",
       "\n",
       "    .dataframe tbody tr th {\n",
       "        vertical-align: top;\n",
       "    }\n",
       "\n",
       "    .dataframe thead th {\n",
       "        text-align: right;\n",
       "    }\n",
       "</style>\n",
       "<table border=\"1\" class=\"dataframe\">\n",
       "  <thead>\n",
       "    <tr style=\"text-align: right;\">\n",
       "      <th></th>\n",
       "      <th>SeniorCitizen</th>\n",
       "      <th>tenure</th>\n",
       "      <th>MonthlyCharges</th>\n",
       "    </tr>\n",
       "  </thead>\n",
       "  <tbody>\n",
       "    <tr>\n",
       "      <th>count</th>\n",
       "      <td>7043.000000</td>\n",
       "      <td>7043.000000</td>\n",
       "      <td>7043.000000</td>\n",
       "    </tr>\n",
       "    <tr>\n",
       "      <th>mean</th>\n",
       "      <td>0.162147</td>\n",
       "      <td>32.371149</td>\n",
       "      <td>64.761692</td>\n",
       "    </tr>\n",
       "    <tr>\n",
       "      <th>std</th>\n",
       "      <td>0.368612</td>\n",
       "      <td>24.559481</td>\n",
       "      <td>30.090047</td>\n",
       "    </tr>\n",
       "    <tr>\n",
       "      <th>min</th>\n",
       "      <td>0.000000</td>\n",
       "      <td>0.000000</td>\n",
       "      <td>18.250000</td>\n",
       "    </tr>\n",
       "    <tr>\n",
       "      <th>25%</th>\n",
       "      <td>0.000000</td>\n",
       "      <td>9.000000</td>\n",
       "      <td>35.500000</td>\n",
       "    </tr>\n",
       "    <tr>\n",
       "      <th>50%</th>\n",
       "      <td>0.000000</td>\n",
       "      <td>29.000000</td>\n",
       "      <td>70.350000</td>\n",
       "    </tr>\n",
       "    <tr>\n",
       "      <th>75%</th>\n",
       "      <td>0.000000</td>\n",
       "      <td>55.000000</td>\n",
       "      <td>89.850000</td>\n",
       "    </tr>\n",
       "    <tr>\n",
       "      <th>max</th>\n",
       "      <td>1.000000</td>\n",
       "      <td>72.000000</td>\n",
       "      <td>118.750000</td>\n",
       "    </tr>\n",
       "  </tbody>\n",
       "</table>\n",
       "</div>"
      ],
      "text/plain": [
       "       SeniorCitizen       tenure  MonthlyCharges\n",
       "count    7043.000000  7043.000000     7043.000000\n",
       "mean        0.162147    32.371149       64.761692\n",
       "std         0.368612    24.559481       30.090047\n",
       "min         0.000000     0.000000       18.250000\n",
       "25%         0.000000     9.000000       35.500000\n",
       "50%         0.000000    29.000000       70.350000\n",
       "75%         0.000000    55.000000       89.850000\n",
       "max         1.000000    72.000000      118.750000"
      ]
     },
     "execution_count": 4,
     "metadata": {},
     "output_type": "execute_result"
    }
   ],
   "source": [
    "df.describe()"
   ]
  },
  {
   "cell_type": "markdown",
   "id": "6ca8c82e",
   "metadata": {},
   "source": [
    "우선 describe로 이상치를 판단하기 위해서는 mean, min, max 값을 확인하는 것이 좋다. mean과 min, mean과 max 값이 std에 비해 한참 차이가 난다면, 이상치가 있을 가능성이 높다.\n",
    "\n",
    "이러한 이상치를 정확히 판단하기 위해서는 아래와 같이 boxplot으로 시각화하여 보는 것이 정확하다."
   ]
  },
  {
   "cell_type": "code",
   "execution_count": 5,
   "id": "98b3fa7d",
   "metadata": {},
   "outputs": [],
   "source": [
    "df_n = df.select_dtypes(exclude = 'object')"
   ]
  },
  {
   "cell_type": "code",
   "execution_count": 6,
   "id": "5f9fbcc7",
   "metadata": {},
   "outputs": [
    {
     "data": {
      "text/html": [
       "<div>\n",
       "<style scoped>\n",
       "    .dataframe tbody tr th:only-of-type {\n",
       "        vertical-align: middle;\n",
       "    }\n",
       "\n",
       "    .dataframe tbody tr th {\n",
       "        vertical-align: top;\n",
       "    }\n",
       "\n",
       "    .dataframe thead th {\n",
       "        text-align: right;\n",
       "    }\n",
       "</style>\n",
       "<table border=\"1\" class=\"dataframe\">\n",
       "  <thead>\n",
       "    <tr style=\"text-align: right;\">\n",
       "      <th></th>\n",
       "      <th>이상치 탐색 변수</th>\n",
       "      <th>이상치 탐색 값</th>\n",
       "    </tr>\n",
       "  </thead>\n",
       "  <tbody>\n",
       "    <tr>\n",
       "      <th>0</th>\n",
       "      <td>SeniorCitizen</td>\n",
       "      <td>0.00</td>\n",
       "    </tr>\n",
       "    <tr>\n",
       "      <th>1</th>\n",
       "      <td>SeniorCitizen</td>\n",
       "      <td>0.00</td>\n",
       "    </tr>\n",
       "    <tr>\n",
       "      <th>2</th>\n",
       "      <td>SeniorCitizen</td>\n",
       "      <td>0.00</td>\n",
       "    </tr>\n",
       "    <tr>\n",
       "      <th>3</th>\n",
       "      <td>SeniorCitizen</td>\n",
       "      <td>0.00</td>\n",
       "    </tr>\n",
       "    <tr>\n",
       "      <th>4</th>\n",
       "      <td>SeniorCitizen</td>\n",
       "      <td>0.00</td>\n",
       "    </tr>\n",
       "    <tr>\n",
       "      <th>...</th>\n",
       "      <td>...</td>\n",
       "      <td>...</td>\n",
       "    </tr>\n",
       "    <tr>\n",
       "      <th>21124</th>\n",
       "      <td>MonthlyCharges</td>\n",
       "      <td>84.80</td>\n",
       "    </tr>\n",
       "    <tr>\n",
       "      <th>21125</th>\n",
       "      <td>MonthlyCharges</td>\n",
       "      <td>103.20</td>\n",
       "    </tr>\n",
       "    <tr>\n",
       "      <th>21126</th>\n",
       "      <td>MonthlyCharges</td>\n",
       "      <td>29.60</td>\n",
       "    </tr>\n",
       "    <tr>\n",
       "      <th>21127</th>\n",
       "      <td>MonthlyCharges</td>\n",
       "      <td>74.40</td>\n",
       "    </tr>\n",
       "    <tr>\n",
       "      <th>21128</th>\n",
       "      <td>MonthlyCharges</td>\n",
       "      <td>105.65</td>\n",
       "    </tr>\n",
       "  </tbody>\n",
       "</table>\n",
       "<p>21129 rows × 2 columns</p>\n",
       "</div>"
      ],
      "text/plain": [
       "            이상치 탐색 변수  이상치 탐색 값\n",
       "0       SeniorCitizen      0.00\n",
       "1       SeniorCitizen      0.00\n",
       "2       SeniorCitizen      0.00\n",
       "3       SeniorCitizen      0.00\n",
       "4       SeniorCitizen      0.00\n",
       "...               ...       ...\n",
       "21124  MonthlyCharges     84.80\n",
       "21125  MonthlyCharges    103.20\n",
       "21126  MonthlyCharges     29.60\n",
       "21127  MonthlyCharges     74.40\n",
       "21128  MonthlyCharges    105.65\n",
       "\n",
       "[21129 rows x 2 columns]"
      ]
     },
     "execution_count": 6,
     "metadata": {},
     "output_type": "execute_result"
    }
   ],
   "source": [
    "outlier = pd.melt(df_n, var_name = '이상치 탐색 변수', value_name = '이상치 탐색 값')\n",
    "outlier"
   ]
  },
  {
   "cell_type": "code",
   "execution_count": 7,
   "id": "83d8129d",
   "metadata": {},
   "outputs": [
    {
     "data": {
      "image/png": "[encoded data removed]",
      "text/plain": [
       "<Figure size 1000x400 with 1 Axes>"
      ]
     },
     "metadata": {},
     "output_type": "display_data"
    }
   ],
   "source": [
    "import seaborn as sns\n",
    "import matplotlib.pyplot as plt\n",
    "%matplotlib inline\n",
    "from matplotlib import rc\n",
    "rc(\"font\", family = 'Malgun Gothic')\n",
    "plt.rcParams['axes.unicode_minus'] = False\n",
    "\n",
    "plt.figure(figsize = (10,4))\n",
    "sns.boxplot(x = '이상치 탐색 변수', y = '이상치 탐색 값', data = outlier)\n",
    "plt.xticks(range(3), df_n.columns)\n",
    "plt.show()"
   ]
  },
  {
   "cell_type": "markdown",
   "id": "94adc7d5",
   "metadata": {},
   "source": [
    "이상치를 탐색하기 위해서 수치형 변수들만 선택해서 boxplot으로 시각화하였다. 이상치의 값이 연속적으로 나타나면, 보통 의미있는 값일 확률이 높기 때문에 따로 제거하거나 대체하지 않고, 눈에 띄는 이상치가 있을 경우에는 보통 제거하거나 대체하는 경우가 많다.(예를 들어, Age 변수가 999값이 있으면 제거하거나 대체하는 것이 옳다.)"
   ]
  },
  {
   "cell_type": "code",
   "execution_count": 8,
   "id": "90decf37",
   "metadata": {},
   "outputs": [
    {
     "data": {
      "text/plain": [
       "No     5174\n",
       "Yes    1869\n",
       "Name: Churn, dtype: int64"
      ]
     },
     "execution_count": 8,
     "metadata": {},
     "output_type": "execute_result"
    }
   ],
   "source": [
    "df['Churn'].value_counts()"
   ]
  },
  {
   "cell_type": "code",
   "execution_count": 9,
   "id": "ce83ff57",
   "metadata": {},
   "outputs": [
    {
     "name": "stdout",
     "output_type": "stream",
     "text": [
      "통신사 고객 이탈율 :  26.536987079369588\n"
     ]
    }
   ],
   "source": [
    "print(\"통신사 고객 이탈율 : \", (1869 / (1869 + 5174))*100)"
   ]
  },
  {
   "cell_type": "code",
   "execution_count": 10,
   "id": "81cdb9bc",
   "metadata": {},
   "outputs": [
    {
     "data": {
      "text/plain": [
       "0    5174\n",
       "1    1869\n",
       "Name: Churn, dtype: int64"
      ]
     },
     "execution_count": 10,
     "metadata": {},
     "output_type": "execute_result"
    }
   ],
   "source": [
    "import numpy as np\n",
    "df['Churn'] = np.where(df['Churn'] == 'Yes', 1, 0)\n",
    "df['Churn'].value_counts()"
   ]
  },
  {
   "cell_type": "markdown",
   "id": "a7907e1b",
   "metadata": {},
   "source": [
    "종속변수 object형태를 분석에 활용하기 위해 이진분류의 숫자 데이터인 0과 1로 변환해준다"
   ]
  },
  {
   "cell_type": "markdown",
   "id": "77ffa637",
   "metadata": {},
   "source": [
    "### 우수고객 탐색\n",
    "\n",
    "- 우수고객이란 이탈률이 낮은 고객군으로 설정한다"
   ]
  },
  {
   "cell_type": "code",
   "execution_count": 11,
   "id": "621623ad",
   "metadata": {},
   "outputs": [
    {
     "data": {
      "image/png": "[encoded data removed]",
      "text/plain": [
       "<Figure size 640x480 with 1 Axes>"
      ]
     },
     "metadata": {},
     "output_type": "display_data"
    }
   ],
   "source": [
    "sns.distplot(df['tenure']);"
   ]
  },
  {
   "cell_type": "markdown",
   "id": "51d1c751",
   "metadata": {},
   "source": [
    "회원개월수(tenure)의 분포를 확인한다. 우수고객 탐색을 위해 가설을 설정해본다  \n",
    "\n",
    "가설1 : 장기고객일수록 이탈률이 낮을 것이다."
   ]
  },
  {
   "cell_type": "code",
   "execution_count": 12,
   "id": "cf4a6a0f",
   "metadata": {},
   "outputs": [
    {
     "data": {
      "text/html": [
       "<div>\n",
       "<style scoped>\n",
       "    .dataframe tbody tr th:only-of-type {\n",
       "        vertical-align: middle;\n",
       "    }\n",
       "\n",
       "    .dataframe tbody tr th {\n",
       "        vertical-align: top;\n",
       "    }\n",
       "\n",
       "    .dataframe thead th {\n",
       "        text-align: right;\n",
       "    }\n",
       "</style>\n",
       "<table border=\"1\" class=\"dataframe\">\n",
       "  <thead>\n",
       "    <tr style=\"text-align: right;\">\n",
       "      <th></th>\n",
       "      <th>tenure</th>\n",
       "      <th>tenure_gp</th>\n",
       "    </tr>\n",
       "  </thead>\n",
       "  <tbody>\n",
       "    <tr>\n",
       "      <th>0</th>\n",
       "      <td>1</td>\n",
       "      <td>20 이하</td>\n",
       "    </tr>\n",
       "    <tr>\n",
       "      <th>1</th>\n",
       "      <td>34</td>\n",
       "      <td>20-60 이하</td>\n",
       "    </tr>\n",
       "    <tr>\n",
       "      <th>2</th>\n",
       "      <td>2</td>\n",
       "      <td>20 이하</td>\n",
       "    </tr>\n",
       "    <tr>\n",
       "      <th>3</th>\n",
       "      <td>45</td>\n",
       "      <td>20-60 이하</td>\n",
       "    </tr>\n",
       "    <tr>\n",
       "      <th>4</th>\n",
       "      <td>2</td>\n",
       "      <td>20 이하</td>\n",
       "    </tr>\n",
       "  </tbody>\n",
       "</table>\n",
       "</div>"
      ],
      "text/plain": [
       "   tenure tenure_gp\n",
       "0       1     20 이하\n",
       "1      34  20-60 이하\n",
       "2       2     20 이하\n",
       "3      45  20-60 이하\n",
       "4       2     20 이하"
      ]
     },
     "execution_count": 12,
     "metadata": {},
     "output_type": "execute_result"
    }
   ],
   "source": [
    "df['tenure_gp'] = np.where (df['tenure'] <= 20, '20 이하', \n",
    "                           np.where(df['tenure'] <= 60, '20-60 이하', '60 초과'))\n",
    "\n",
    "df[['tenure','tenure_gp']].head(5)"
   ]
  },
  {
   "cell_type": "markdown",
   "id": "f21ca1e0",
   "metadata": {},
   "source": [
    "20,60 사이의 값을 평균으로 측정하고 3개의 구간으로 구간화를 진행한다"
   ]
  },
  {
   "cell_type": "code",
   "execution_count": 13,
   "id": "5b1ff2a0",
   "metadata": {},
   "outputs": [
    {
     "data": {
      "text/html": [
       "<div>\n",
       "<style scoped>\n",
       "    .dataframe tbody tr th:only-of-type {\n",
       "        vertical-align: middle;\n",
       "    }\n",
       "\n",
       "    .dataframe tbody tr th {\n",
       "        vertical-align: top;\n",
       "    }\n",
       "\n",
       "    .dataframe thead th {\n",
       "        text-align: right;\n",
       "    }\n",
       "</style>\n",
       "<table border=\"1\" class=\"dataframe\">\n",
       "  <thead>\n",
       "    <tr style=\"text-align: right;\">\n",
       "      <th></th>\n",
       "      <th>count</th>\n",
       "      <th>sum</th>\n",
       "      <th>ratio</th>\n",
       "      <th>lift</th>\n",
       "    </tr>\n",
       "    <tr>\n",
       "      <th>tenure_gp</th>\n",
       "      <th></th>\n",
       "      <th></th>\n",
       "      <th></th>\n",
       "      <th></th>\n",
       "    </tr>\n",
       "  </thead>\n",
       "  <tbody>\n",
       "    <tr>\n",
       "      <th>20 이하</th>\n",
       "      <td>2878</td>\n",
       "      <td>1251</td>\n",
       "      <td>43.5</td>\n",
       "      <td>1.6</td>\n",
       "    </tr>\n",
       "    <tr>\n",
       "      <th>20-60 이하</th>\n",
       "      <td>2758</td>\n",
       "      <td>525</td>\n",
       "      <td>19.0</td>\n",
       "      <td>0.7</td>\n",
       "    </tr>\n",
       "    <tr>\n",
       "      <th>60 초과</th>\n",
       "      <td>1407</td>\n",
       "      <td>93</td>\n",
       "      <td>6.6</td>\n",
       "      <td>0.2</td>\n",
       "    </tr>\n",
       "  </tbody>\n",
       "</table>\n",
       "</div>"
      ],
      "text/plain": [
       "           count   sum  ratio  lift\n",
       "tenure_gp                          \n",
       "20 이하       2878  1251   43.5   1.6\n",
       "20-60 이하    2758   525   19.0   0.7\n",
       "60 초과       1407    93    6.6   0.2"
      ]
     },
     "execution_count": 13,
     "metadata": {},
     "output_type": "execute_result"
    }
   ],
   "source": [
    "df_gp = df.groupby('tenure_gp')['Churn'].agg(['count','sum'])\n",
    "df_gp['ratio'] = round((df_gp['sum'] / df_gp['count']) * 100, 1)\n",
    "df_gp['lift'] = round(df_gp['ratio'] / 27,1)\n",
    "df_gp"
   ]
  },
  {
   "cell_type": "markdown",
   "id": "646d896c",
   "metadata": {},
   "source": [
    "장기고객일수록 이탈률이 낮은 것을 확인할 수 있다. lift를 통해 평균 이탈률과의 차이를 한눈에 알 수 있다. 20개월 이하인 고객들은 평균 이탈률보다 무려 1.6배나 높지만, 60개월 초과인 고객들은 평균 이탈률의 약 20%밖에 되지 않는 것을 볼 수 있다"
   ]
  },
  {
   "cell_type": "code",
   "execution_count": 14,
   "id": "e70306c5",
   "metadata": {},
   "outputs": [
    {
     "data": {
      "image/png": "[encoded data removed]",
      "text/plain": [
       "<Figure size 640x480 with 1 Axes>"
      ]
     },
     "metadata": {},
     "output_type": "display_data"
    }
   ],
   "source": [
    "sns.distplot(df['MonthlyCharges']);"
   ]
  },
  {
   "cell_type": "markdown",
   "id": "e49c7ae2",
   "metadata": {},
   "source": [
    "월청구금액(MonthlyCharges)의 분포를 확인한다. 우수고객 탐색을 위해 가설을 설정해본다\n",
    "\n",
    "가설2 : 프리미엄 요금 회원일수록 이탈률이 낮을 것이다."
   ]
  },
  {
   "cell_type": "code",
   "execution_count": 15,
   "id": "701de055",
   "metadata": {},
   "outputs": [
    {
     "data": {
      "text/html": [
       "<div>\n",
       "<style scoped>\n",
       "    .dataframe tbody tr th:only-of-type {\n",
       "        vertical-align: middle;\n",
       "    }\n",
       "\n",
       "    .dataframe tbody tr th {\n",
       "        vertical-align: top;\n",
       "    }\n",
       "\n",
       "    .dataframe thead th {\n",
       "        text-align: right;\n",
       "    }\n",
       "</style>\n",
       "<table border=\"1\" class=\"dataframe\">\n",
       "  <thead>\n",
       "    <tr style=\"text-align: right;\">\n",
       "      <th></th>\n",
       "      <th>MonthlyCharges</th>\n",
       "      <th>MonthlyCharges_gp</th>\n",
       "    </tr>\n",
       "  </thead>\n",
       "  <tbody>\n",
       "    <tr>\n",
       "      <th>0</th>\n",
       "      <td>29.85</td>\n",
       "      <td>40 이하</td>\n",
       "    </tr>\n",
       "    <tr>\n",
       "      <th>1</th>\n",
       "      <td>56.95</td>\n",
       "      <td>40-80 이하</td>\n",
       "    </tr>\n",
       "    <tr>\n",
       "      <th>2</th>\n",
       "      <td>53.85</td>\n",
       "      <td>40-80 이하</td>\n",
       "    </tr>\n",
       "    <tr>\n",
       "      <th>3</th>\n",
       "      <td>42.30</td>\n",
       "      <td>40-80 이하</td>\n",
       "    </tr>\n",
       "    <tr>\n",
       "      <th>4</th>\n",
       "      <td>70.70</td>\n",
       "      <td>40-80 이하</td>\n",
       "    </tr>\n",
       "  </tbody>\n",
       "</table>\n",
       "</div>"
      ],
      "text/plain": [
       "   MonthlyCharges MonthlyCharges_gp\n",
       "0           29.85             40 이하\n",
       "1           56.95          40-80 이하\n",
       "2           53.85          40-80 이하\n",
       "3           42.30          40-80 이하\n",
       "4           70.70          40-80 이하"
      ]
     },
     "execution_count": 15,
     "metadata": {},
     "output_type": "execute_result"
    }
   ],
   "source": [
    "df['MonthlyCharges_gp'] = np.where (df['MonthlyCharges'] <= 40, '40 이하', \n",
    "                           np.where(df['MonthlyCharges'] <= 80, '40-80 이하', '80 초과'))\n",
    "\n",
    "df[['MonthlyCharges','MonthlyCharges_gp']].head(5)"
   ]
  },
  {
   "cell_type": "markdown",
   "id": "4bdb43af",
   "metadata": {},
   "source": [
    "40,80 사이의 값을 평균으로 측정하고 3개의 구간으로 구간화를 진행한다"
   ]
  },
  {
   "cell_type": "code",
   "execution_count": 16,
   "id": "76a0cd34",
   "metadata": {},
   "outputs": [
    {
     "data": {
      "text/html": [
       "<div>\n",
       "<style scoped>\n",
       "    .dataframe tbody tr th:only-of-type {\n",
       "        vertical-align: middle;\n",
       "    }\n",
       "\n",
       "    .dataframe tbody tr th {\n",
       "        vertical-align: top;\n",
       "    }\n",
       "\n",
       "    .dataframe thead th {\n",
       "        text-align: right;\n",
       "    }\n",
       "</style>\n",
       "<table border=\"1\" class=\"dataframe\">\n",
       "  <thead>\n",
       "    <tr style=\"text-align: right;\">\n",
       "      <th></th>\n",
       "      <th>count</th>\n",
       "      <th>sum</th>\n",
       "      <th>ratio</th>\n",
       "      <th>lift</th>\n",
       "    </tr>\n",
       "    <tr>\n",
       "      <th>MonthlyCharges_gp</th>\n",
       "      <th></th>\n",
       "      <th></th>\n",
       "      <th></th>\n",
       "      <th></th>\n",
       "    </tr>\n",
       "  </thead>\n",
       "  <tbody>\n",
       "    <tr>\n",
       "      <th>40 이하</th>\n",
       "      <td>1838</td>\n",
       "      <td>214</td>\n",
       "      <td>11.6</td>\n",
       "      <td>0.4</td>\n",
       "    </tr>\n",
       "    <tr>\n",
       "      <th>40-80 이하</th>\n",
       "      <td>2539</td>\n",
       "      <td>749</td>\n",
       "      <td>29.5</td>\n",
       "      <td>1.1</td>\n",
       "    </tr>\n",
       "    <tr>\n",
       "      <th>80 초과</th>\n",
       "      <td>2666</td>\n",
       "      <td>906</td>\n",
       "      <td>34.0</td>\n",
       "      <td>1.3</td>\n",
       "    </tr>\n",
       "  </tbody>\n",
       "</table>\n",
       "</div>"
      ],
      "text/plain": [
       "                   count  sum  ratio  lift\n",
       "MonthlyCharges_gp                         \n",
       "40 이하               1838  214   11.6   0.4\n",
       "40-80 이하            2539  749   29.5   1.1\n",
       "80 초과               2666  906   34.0   1.3"
      ]
     },
     "execution_count": 16,
     "metadata": {},
     "output_type": "execute_result"
    }
   ],
   "source": [
    "df_gp = df.groupby('MonthlyCharges_gp')['Churn'].agg(['count','sum'])\n",
    "df_gp['ratio'] = round((df_gp['sum'] / df_gp['count']) * 100, 1)\n",
    "df_gp['lift'] = round(df_gp['ratio'] / 27,1)\n",
    "df_gp"
   ]
  },
  {
   "cell_type": "markdown",
   "id": "1466a897",
   "metadata": {},
   "source": [
    "프리미엄 요금 회원일수록 이탈률이 높은 것을 확인할 수 있다. lift를 통해 평균 이탈률과의 차이를 한눈에 알 수 있다. 80 초과인 고객들은 평균 이탈률보다 무려 1.3배나 높지만, 40 이하인 고객들은 평균 이탈률의 약 40%밖에 되지 않는 것을 볼 수 있다  \n",
    "\n",
    "이번 가설은 기각한다. 프리미엄 요금 회원의 혜택이 금액 대비 저조한지 혹은 다른 부담이 있는지는 파악이 되지 않지만, 오히려 저렴한 요금제를 사용하는 고객들의 이탈이 낮은 것을 알 수 있다"
   ]
  },
  {
   "cell_type": "code",
   "execution_count": 17,
   "id": "fb40fc2c",
   "metadata": {},
   "outputs": [
    {
     "data": {
      "text/html": [
       "<div>\n",
       "<style scoped>\n",
       "    .dataframe tbody tr th:only-of-type {\n",
       "        vertical-align: middle;\n",
       "    }\n",
       "\n",
       "    .dataframe tbody tr th {\n",
       "        vertical-align: top;\n",
       "    }\n",
       "\n",
       "    .dataframe thead th {\n",
       "        text-align: right;\n",
       "    }\n",
       "</style>\n",
       "<table border=\"1\" class=\"dataframe\">\n",
       "  <thead>\n",
       "    <tr style=\"text-align: right;\">\n",
       "      <th></th>\n",
       "      <th></th>\n",
       "      <th>count</th>\n",
       "      <th>sum</th>\n",
       "      <th>ratio</th>\n",
       "    </tr>\n",
       "    <tr>\n",
       "      <th>tenure_gp</th>\n",
       "      <th>MonthlyCharges_gp</th>\n",
       "      <th></th>\n",
       "      <th></th>\n",
       "      <th></th>\n",
       "    </tr>\n",
       "  </thead>\n",
       "  <tbody>\n",
       "    <tr>\n",
       "      <th rowspan=\"3\" valign=\"top\">20 이하</th>\n",
       "      <th>40 이하</th>\n",
       "      <td>873</td>\n",
       "      <td>187</td>\n",
       "      <td>21.4</td>\n",
       "    </tr>\n",
       "    <tr>\n",
       "      <th>40-80 이하</th>\n",
       "      <td>1300</td>\n",
       "      <td>597</td>\n",
       "      <td>45.9</td>\n",
       "    </tr>\n",
       "    <tr>\n",
       "      <th>80 초과</th>\n",
       "      <td>705</td>\n",
       "      <td>467</td>\n",
       "      <td>66.2</td>\n",
       "    </tr>\n",
       "    <tr>\n",
       "      <th rowspan=\"3\" valign=\"top\">20-60 이하</th>\n",
       "      <th>40 이하</th>\n",
       "      <td>674</td>\n",
       "      <td>26</td>\n",
       "      <td>3.9</td>\n",
       "    </tr>\n",
       "    <tr>\n",
       "      <th>40-80 이하</th>\n",
       "      <td>922</td>\n",
       "      <td>140</td>\n",
       "      <td>15.2</td>\n",
       "    </tr>\n",
       "    <tr>\n",
       "      <th>80 초과</th>\n",
       "      <td>1162</td>\n",
       "      <td>359</td>\n",
       "      <td>30.9</td>\n",
       "    </tr>\n",
       "    <tr>\n",
       "      <th rowspan=\"3\" valign=\"top\">60 초과</th>\n",
       "      <th>40 이하</th>\n",
       "      <td>291</td>\n",
       "      <td>1</td>\n",
       "      <td>0.3</td>\n",
       "    </tr>\n",
       "    <tr>\n",
       "      <th>40-80 이하</th>\n",
       "      <td>317</td>\n",
       "      <td>12</td>\n",
       "      <td>3.8</td>\n",
       "    </tr>\n",
       "    <tr>\n",
       "      <th>80 초과</th>\n",
       "      <td>799</td>\n",
       "      <td>80</td>\n",
       "      <td>10.0</td>\n",
       "    </tr>\n",
       "  </tbody>\n",
       "</table>\n",
       "</div>"
      ],
      "text/plain": [
       "                             count  sum  ratio\n",
       "tenure_gp MonthlyCharges_gp                   \n",
       "20 이하     40 이하                873  187   21.4\n",
       "          40-80 이하            1300  597   45.9\n",
       "          80 초과                705  467   66.2\n",
       "20-60 이하  40 이하                674   26    3.9\n",
       "          40-80 이하             922  140   15.2\n",
       "          80 초과               1162  359   30.9\n",
       "60 초과     40 이하                291    1    0.3\n",
       "          40-80 이하             317   12    3.8\n",
       "          80 초과                799   80   10.0"
      ]
     },
     "execution_count": 17,
     "metadata": {},
     "output_type": "execute_result"
    }
   ],
   "source": [
    "df_gp = df.groupby(['tenure_gp','MonthlyCharges_gp'])['Churn'].agg(['count','sum'])\n",
    "df_gp['ratio'] = round((df_gp['sum'] / df_gp['count']) * 100, 1)\n",
    "df_gp"
   ]
  },
  {
   "cell_type": "markdown",
   "id": "a85515f1",
   "metadata": {},
   "source": [
    "그렇다면 회원개월수 및 프리미엄 요금 회원 조합에 따른 이탈률 분석을 실시해본다. 장기고객일지라도 프리미엄 요금 회원은 이탈률이 여전히 높은 것을 확인할 수 있다. 하지만, 장기고객일수록 평균 이탈률은 낮은 것을 볼 수 있다"
   ]
  },
  {
   "cell_type": "markdown",
   "id": "6cb8c1a4",
   "metadata": {},
   "source": [
    "## 이탈 고객 특성 분석(인구통계학적 특성)"
   ]
  },
  {
   "cell_type": "code",
   "execution_count": 18,
   "id": "da297ec2",
   "metadata": {},
   "outputs": [
    {
     "data": {
      "text/html": [
       "<div>\n",
       "<style scoped>\n",
       "    .dataframe tbody tr th:only-of-type {\n",
       "        vertical-align: middle;\n",
       "    }\n",
       "\n",
       "    .dataframe tbody tr th {\n",
       "        vertical-align: top;\n",
       "    }\n",
       "\n",
       "    .dataframe thead th {\n",
       "        text-align: right;\n",
       "    }\n",
       "</style>\n",
       "<table border=\"1\" class=\"dataframe\">\n",
       "  <thead>\n",
       "    <tr style=\"text-align: right;\">\n",
       "      <th></th>\n",
       "      <th>customerID</th>\n",
       "      <th>gender</th>\n",
       "      <th>SeniorCitizen</th>\n",
       "      <th>Partner</th>\n",
       "      <th>Dependents</th>\n",
       "      <th>tenure</th>\n",
       "      <th>PhoneService</th>\n",
       "      <th>MultipleLines</th>\n",
       "      <th>InternetService</th>\n",
       "      <th>OnlineSecurity</th>\n",
       "      <th>OnlineBackup</th>\n",
       "      <th>DeviceProtection</th>\n",
       "      <th>TechSupport</th>\n",
       "      <th>StreamingTV</th>\n",
       "      <th>StreamingMovies</th>\n",
       "      <th>Contract</th>\n",
       "      <th>PaperlessBilling</th>\n",
       "      <th>PaymentMethod</th>\n",
       "      <th>MonthlyCharges</th>\n",
       "      <th>TotalCharges</th>\n",
       "      <th>Churn</th>\n",
       "      <th>tenure_gp</th>\n",
       "      <th>MonthlyCharges_gp</th>\n",
       "    </tr>\n",
       "  </thead>\n",
       "  <tbody>\n",
       "    <tr>\n",
       "      <th>0</th>\n",
       "      <td>7590-VHVEG</td>\n",
       "      <td>Female</td>\n",
       "      <td>0</td>\n",
       "      <td>Yes</td>\n",
       "      <td>No</td>\n",
       "      <td>1</td>\n",
       "      <td>No</td>\n",
       "      <td>No phone service</td>\n",
       "      <td>DSL</td>\n",
       "      <td>No</td>\n",
       "      <td>Yes</td>\n",
       "      <td>No</td>\n",
       "      <td>No</td>\n",
       "      <td>No</td>\n",
       "      <td>No</td>\n",
       "      <td>Month-to-month</td>\n",
       "      <td>Yes</td>\n",
       "      <td>Electronic check</td>\n",
       "      <td>29.85</td>\n",
       "      <td>29.85</td>\n",
       "      <td>0</td>\n",
       "      <td>20 이하</td>\n",
       "      <td>40 이하</td>\n",
       "    </tr>\n",
       "    <tr>\n",
       "      <th>1</th>\n",
       "      <td>5575-GNVDE</td>\n",
       "      <td>Male</td>\n",
       "      <td>0</td>\n",
       "      <td>No</td>\n",
       "      <td>No</td>\n",
       "      <td>34</td>\n",
       "      <td>Yes</td>\n",
       "      <td>No</td>\n",
       "      <td>DSL</td>\n",
       "      <td>Yes</td>\n",
       "      <td>No</td>\n",
       "      <td>Yes</td>\n",
       "      <td>No</td>\n",
       "      <td>No</td>\n",
       "      <td>No</td>\n",
       "      <td>One year</td>\n",
       "      <td>No</td>\n",
       "      <td>Mailed check</td>\n",
       "      <td>56.95</td>\n",
       "      <td>1889.5</td>\n",
       "      <td>0</td>\n",
       "      <td>20-60 이하</td>\n",
       "      <td>40-80 이하</td>\n",
       "    </tr>\n",
       "    <tr>\n",
       "      <th>2</th>\n",
       "      <td>3668-QPYBK</td>\n",
       "      <td>Male</td>\n",
       "      <td>0</td>\n",
       "      <td>No</td>\n",
       "      <td>No</td>\n",
       "      <td>2</td>\n",
       "      <td>Yes</td>\n",
       "      <td>No</td>\n",
       "      <td>DSL</td>\n",
       "      <td>Yes</td>\n",
       "      <td>Yes</td>\n",
       "      <td>No</td>\n",
       "      <td>No</td>\n",
       "      <td>No</td>\n",
       "      <td>No</td>\n",
       "      <td>Month-to-month</td>\n",
       "      <td>Yes</td>\n",
       "      <td>Mailed check</td>\n",
       "      <td>53.85</td>\n",
       "      <td>108.15</td>\n",
       "      <td>1</td>\n",
       "      <td>20 이하</td>\n",
       "      <td>40-80 이하</td>\n",
       "    </tr>\n",
       "    <tr>\n",
       "      <th>3</th>\n",
       "      <td>7795-CFOCW</td>\n",
       "      <td>Male</td>\n",
       "      <td>0</td>\n",
       "      <td>No</td>\n",
       "      <td>No</td>\n",
       "      <td>45</td>\n",
       "      <td>No</td>\n",
       "      <td>No phone service</td>\n",
       "      <td>DSL</td>\n",
       "      <td>Yes</td>\n",
       "      <td>No</td>\n",
       "      <td>Yes</td>\n",
       "      <td>Yes</td>\n",
       "      <td>No</td>\n",
       "      <td>No</td>\n",
       "      <td>One year</td>\n",
       "      <td>No</td>\n",
       "      <td>Bank transfer (automatic)</td>\n",
       "      <td>42.30</td>\n",
       "      <td>1840.75</td>\n",
       "      <td>0</td>\n",
       "      <td>20-60 이하</td>\n",
       "      <td>40-80 이하</td>\n",
       "    </tr>\n",
       "    <tr>\n",
       "      <th>4</th>\n",
       "      <td>9237-HQITU</td>\n",
       "      <td>Female</td>\n",
       "      <td>0</td>\n",
       "      <td>No</td>\n",
       "      <td>No</td>\n",
       "      <td>2</td>\n",
       "      <td>Yes</td>\n",
       "      <td>No</td>\n",
       "      <td>Fiber optic</td>\n",
       "      <td>No</td>\n",
       "      <td>No</td>\n",
       "      <td>No</td>\n",
       "      <td>No</td>\n",
       "      <td>No</td>\n",
       "      <td>No</td>\n",
       "      <td>Month-to-month</td>\n",
       "      <td>Yes</td>\n",
       "      <td>Electronic check</td>\n",
       "      <td>70.70</td>\n",
       "      <td>151.65</td>\n",
       "      <td>1</td>\n",
       "      <td>20 이하</td>\n",
       "      <td>40-80 이하</td>\n",
       "    </tr>\n",
       "  </tbody>\n",
       "</table>\n",
       "</div>"
      ],
      "text/plain": [
       "   customerID  gender  SeniorCitizen Partner Dependents  tenure PhoneService  \\\n",
       "0  7590-VHVEG  Female              0     Yes         No       1           No   \n",
       "1  5575-GNVDE    Male              0      No         No      34          Yes   \n",
       "2  3668-QPYBK    Male              0      No         No       2          Yes   \n",
       "3  7795-CFOCW    Male              0      No         No      45           No   \n",
       "4  9237-HQITU  Female              0      No         No       2          Yes   \n",
       "\n",
       "      MultipleLines InternetService OnlineSecurity OnlineBackup  \\\n",
       "0  No phone service             DSL             No          Yes   \n",
       "1                No             DSL            Yes           No   \n",
       "2                No             DSL            Yes          Yes   \n",
       "3  No phone service             DSL            Yes           No   \n",
       "4                No     Fiber optic             No           No   \n",
       "\n",
       "  DeviceProtection TechSupport StreamingTV StreamingMovies        Contract  \\\n",
       "0               No          No          No              No  Month-to-month   \n",
       "1              Yes          No          No              No        One year   \n",
       "2               No          No          No              No  Month-to-month   \n",
       "3              Yes         Yes          No              No        One year   \n",
       "4               No          No          No              No  Month-to-month   \n",
       "\n",
       "  PaperlessBilling              PaymentMethod  MonthlyCharges TotalCharges  \\\n",
       "0              Yes           Electronic check           29.85        29.85   \n",
       "1               No               Mailed check           56.95       1889.5   \n",
       "2              Yes               Mailed check           53.85       108.15   \n",
       "3               No  Bank transfer (automatic)           42.30      1840.75   \n",
       "4              Yes           Electronic check           70.70       151.65   \n",
       "\n",
       "   Churn tenure_gp MonthlyCharges_gp  \n",
       "0      0     20 이하             40 이하  \n",
       "1      0  20-60 이하          40-80 이하  \n",
       "2      1     20 이하          40-80 이하  \n",
       "3      0  20-60 이하          40-80 이하  \n",
       "4      1     20 이하          40-80 이하  "
      ]
     },
     "execution_count": 18,
     "metadata": {},
     "output_type": "execute_result"
    }
   ],
   "source": [
    "pd.set_option('display.max_columns', 500)\n",
    "df.head(5)"
   ]
  },
  {
   "cell_type": "code",
   "execution_count": 19,
   "id": "caa65527",
   "metadata": {},
   "outputs": [
    {
     "data": {
      "text/html": [
       "<div>\n",
       "<style scoped>\n",
       "    .dataframe tbody tr th:only-of-type {\n",
       "        vertical-align: middle;\n",
       "    }\n",
       "\n",
       "    .dataframe tbody tr th {\n",
       "        vertical-align: top;\n",
       "    }\n",
       "\n",
       "    .dataframe thead th {\n",
       "        text-align: right;\n",
       "    }\n",
       "</style>\n",
       "<table border=\"1\" class=\"dataframe\">\n",
       "  <thead>\n",
       "    <tr style=\"text-align: right;\">\n",
       "      <th></th>\n",
       "      <th>gender</th>\n",
       "      <th>SeniorCitizen</th>\n",
       "      <th>Partner</th>\n",
       "      <th>Dependents</th>\n",
       "    </tr>\n",
       "  </thead>\n",
       "  <tbody>\n",
       "    <tr>\n",
       "      <th>0</th>\n",
       "      <td>Female</td>\n",
       "      <td>0</td>\n",
       "      <td>Yes</td>\n",
       "      <td>No</td>\n",
       "    </tr>\n",
       "    <tr>\n",
       "      <th>1</th>\n",
       "      <td>Male</td>\n",
       "      <td>0</td>\n",
       "      <td>No</td>\n",
       "      <td>No</td>\n",
       "    </tr>\n",
       "    <tr>\n",
       "      <th>2</th>\n",
       "      <td>Male</td>\n",
       "      <td>0</td>\n",
       "      <td>No</td>\n",
       "      <td>No</td>\n",
       "    </tr>\n",
       "    <tr>\n",
       "      <th>3</th>\n",
       "      <td>Male</td>\n",
       "      <td>0</td>\n",
       "      <td>No</td>\n",
       "      <td>No</td>\n",
       "    </tr>\n",
       "    <tr>\n",
       "      <th>4</th>\n",
       "      <td>Female</td>\n",
       "      <td>0</td>\n",
       "      <td>No</td>\n",
       "      <td>No</td>\n",
       "    </tr>\n",
       "    <tr>\n",
       "      <th>5</th>\n",
       "      <td>Female</td>\n",
       "      <td>0</td>\n",
       "      <td>No</td>\n",
       "      <td>No</td>\n",
       "    </tr>\n",
       "    <tr>\n",
       "      <th>6</th>\n",
       "      <td>Male</td>\n",
       "      <td>0</td>\n",
       "      <td>No</td>\n",
       "      <td>Yes</td>\n",
       "    </tr>\n",
       "    <tr>\n",
       "      <th>7</th>\n",
       "      <td>Female</td>\n",
       "      <td>0</td>\n",
       "      <td>No</td>\n",
       "      <td>No</td>\n",
       "    </tr>\n",
       "    <tr>\n",
       "      <th>8</th>\n",
       "      <td>Female</td>\n",
       "      <td>0</td>\n",
       "      <td>Yes</td>\n",
       "      <td>No</td>\n",
       "    </tr>\n",
       "    <tr>\n",
       "      <th>9</th>\n",
       "      <td>Male</td>\n",
       "      <td>0</td>\n",
       "      <td>No</td>\n",
       "      <td>Yes</td>\n",
       "    </tr>\n",
       "  </tbody>\n",
       "</table>\n",
       "</div>"
      ],
      "text/plain": [
       "   gender  SeniorCitizen Partner Dependents\n",
       "0  Female              0     Yes         No\n",
       "1    Male              0      No         No\n",
       "2    Male              0      No         No\n",
       "3    Male              0      No         No\n",
       "4  Female              0      No         No\n",
       "5  Female              0      No         No\n",
       "6    Male              0      No        Yes\n",
       "7  Female              0      No         No\n",
       "8  Female              0     Yes         No\n",
       "9    Male              0      No        Yes"
      ]
     },
     "execution_count": 19,
     "metadata": {},
     "output_type": "execute_result"
    }
   ],
   "source": [
    "df[['gender', 'SeniorCitizen', 'Partner', 'Dependents']].head(10)"
   ]
  },
  {
   "cell_type": "markdown",
   "id": "0c252e04",
   "metadata": {},
   "source": [
    "인구통계학적 특성 : 성별/노인여부/결혼여부/부양가족여부"
   ]
  },
  {
   "cell_type": "code",
   "execution_count": 21,
   "id": "f7f991d0",
   "metadata": {},
   "outputs": [
    {
     "name": "stdout",
     "output_type": "stream",
     "text": [
      "        count  sum  ratio  lift\n",
      "gender                         \n",
      "Female   3488  939   26.9   1.0\n",
      "Male     3555  930   26.2   1.0\n"
     ]
    },
    {
     "data": {
      "image/png": "[encoded data removed]",
      "text/plain": [
       "<Figure size 1000x300 with 1 Axes>"
      ]
     },
     "metadata": {},
     "output_type": "display_data"
    }
   ],
   "source": [
    "sns.catplot(x=\"gender\", hue=\"Churn\", kind=\"count\",palette=\"pastel\", edgecolor=\".6\",data=df);\n",
    "plt.gcf().set_size_inches(10, 3)\n",
    "\n",
    "\n",
    "df_gp = df.groupby('gender')['Churn'].agg(['count','sum'])\n",
    "df_gp['ratio'] = round((df_gp['sum'] / df_gp['count']) * 100, 1)\n",
    "df_gp = df_gp.sort_values(by=['ratio'], ascending=False)\n",
    "df_gp['lift'] = round(df_gp['ratio'] / ((df['Churn'].sum() / len(df))*100) ,1)\n",
    "print(df_gp)"
   ]
  },
  {
   "cell_type": "markdown",
   "id": "7e825b9f",
   "metadata": {},
   "source": [
    "gender(성별)에 따른 고객 이탈률 분석을 실시한 결과, 여성 고객일수록 더욱 고객 이탈률이 높다"
   ]
  },
  {
   "cell_type": "code",
   "execution_count": 22,
   "id": "c7125f26",
   "metadata": {},
   "outputs": [
    {
     "name": "stdout",
     "output_type": "stream",
     "text": [
      "               count   sum  ratio  lift\n",
      "SeniorCitizen                          \n",
      "1               1142   476   41.7   1.6\n",
      "0               5901  1393   23.6   0.9\n"
     ]
    },
    {
     "data": {
      "image/png": "[encoded data removed]",
      "text/plain": [
       "<Figure size 1000x300 with 1 Axes>"
      ]
     },
     "metadata": {},
     "output_type": "display_data"
    }
   ],
   "source": [
    "sns.catplot(x=\"SeniorCitizen\", hue=\"Churn\", kind=\"count\",palette=\"pastel\", edgecolor=\".6\",data=df);\n",
    "plt.gcf().set_size_inches(10, 3)\n",
    "\n",
    "\n",
    "df_gp = df.groupby('SeniorCitizen')['Churn'].agg(['count','sum'])\n",
    "df_gp['ratio'] = round((df_gp['sum'] / df_gp['count']) * 100, 1)\n",
    "df_gp = df_gp.sort_values(by=['ratio'], ascending=False)\n",
    "df_gp['lift'] = round(df_gp['ratio'] / ((df['Churn'].sum() / len(df))*100) ,1)\n",
    "print(df_gp)"
   ]
  },
  {
   "cell_type": "markdown",
   "id": "1f271ebd",
   "metadata": {},
   "source": [
    "SeniorCitizen(노인가구여부)에 따른 고객 이탈률 분석을 실시한 결과, 노인가구일수록 더욱 고객 이탈률이 높다"
   ]
  },
  {
   "cell_type": "code",
   "execution_count": 23,
   "id": "961f32fe",
   "metadata": {},
   "outputs": [
    {
     "name": "stdout",
     "output_type": "stream",
     "text": [
      "         count   sum  ratio  lift\n",
      "Partner                          \n",
      "No        3641  1200   33.0   1.2\n",
      "Yes       3402   669   19.7   0.7\n"
     ]
    },
    {
     "data": {
      "image/png": "[encoded data removed]",
      "text/plain": [
       "<Figure size 1000x300 with 1 Axes>"
      ]
     },
     "metadata": {},
     "output_type": "display_data"
    }
   ],
   "source": [
    "sns.catplot(x=\"Partner\", hue=\"Churn\", kind=\"count\",palette=\"pastel\", edgecolor=\".6\",data=df);\n",
    "plt.gcf().set_size_inches(10, 3)\n",
    "\n",
    "\n",
    "df_gp = df.groupby('Partner')['Churn'].agg(['count','sum'])\n",
    "df_gp['ratio'] = round((df_gp['sum'] / df_gp['count']) * 100, 1)\n",
    "df_gp = df_gp.sort_values(by=['ratio'], ascending=False)\n",
    "df_gp['lift'] = round(df_gp['ratio'] / ((df['Churn'].sum() / len(df))*100) ,1)\n",
    "print(df_gp)"
   ]
  },
  {
   "cell_type": "markdown",
   "id": "3ae0c47b",
   "metadata": {},
   "source": [
    "Partner(결혼여부)에 따른 고객 이탈률 분석을 실시한 결과, 결혼을 하지 않을수록 더욱 고객 이탈률이 높다"
   ]
  },
  {
   "cell_type": "code",
   "execution_count": 24,
   "id": "771de354",
   "metadata": {},
   "outputs": [
    {
     "name": "stdout",
     "output_type": "stream",
     "text": [
      "            count   sum  ratio  lift\n",
      "Dependents                          \n",
      "No           4933  1543   31.3   1.2\n",
      "Yes          2110   326   15.5   0.6\n"
     ]
    },
    {
     "data": {
      "image/png": "[encoded data removed]",
      "text/plain": [
       "<Figure size 1000x300 with 1 Axes>"
      ]
     },
     "metadata": {},
     "output_type": "display_data"
    }
   ],
   "source": [
    "sns.catplot(x=\"Dependents\", hue=\"Churn\", kind=\"count\",palette=\"pastel\", edgecolor=\".6\",data=df);\n",
    "plt.gcf().set_size_inches(10, 3)\n",
    "\n",
    "\n",
    "df_gp = df.groupby('Dependents')['Churn'].agg(['count','sum'])\n",
    "df_gp['ratio'] = round((df_gp['sum'] / df_gp['count']) * 100, 1)\n",
    "df_gp = df_gp.sort_values(by=['ratio'], ascending=False)\n",
    "df_gp['lift'] = round(df_gp['ratio'] / ((df['Churn'].sum() / len(df))*100) ,1)\n",
    "print(df_gp)"
   ]
  },
  {
   "cell_type": "markdown",
   "id": "f132d6df",
   "metadata": {},
   "source": [
    "Dependents(부양가족 여부)에 따른 고객 이탈률 분석을 실시한 결과, 부양가족이 없을수록 더욱 고객 이탈률이 높다"
   ]
  },
  {
   "cell_type": "markdown",
   "id": "519f99a0",
   "metadata": {},
   "source": [
    "## 이탈 고객 특성 분석(부가서비스 사용 )"
   ]
  },
  {
   "cell_type": "code",
   "execution_count": 25,
   "id": "1ad7c150",
   "metadata": {},
   "outputs": [
    {
     "data": {
      "text/html": [
       "<div>\n",
       "<style scoped>\n",
       "    .dataframe tbody tr th:only-of-type {\n",
       "        vertical-align: middle;\n",
       "    }\n",
       "\n",
       "    .dataframe tbody tr th {\n",
       "        vertical-align: top;\n",
       "    }\n",
       "\n",
       "    .dataframe thead th {\n",
       "        text-align: right;\n",
       "    }\n",
       "</style>\n",
       "<table border=\"1\" class=\"dataframe\">\n",
       "  <thead>\n",
       "    <tr style=\"text-align: right;\">\n",
       "      <th></th>\n",
       "      <th>OnlineBackup</th>\n",
       "      <th>DeviceProtection</th>\n",
       "      <th>TechSupport</th>\n",
       "      <th>StreamingTV</th>\n",
       "      <th>StreamingMovies</th>\n",
       "    </tr>\n",
       "  </thead>\n",
       "  <tbody>\n",
       "    <tr>\n",
       "      <th>0</th>\n",
       "      <td>Yes</td>\n",
       "      <td>No</td>\n",
       "      <td>No</td>\n",
       "      <td>No</td>\n",
       "      <td>No</td>\n",
       "    </tr>\n",
       "    <tr>\n",
       "      <th>1</th>\n",
       "      <td>No</td>\n",
       "      <td>Yes</td>\n",
       "      <td>No</td>\n",
       "      <td>No</td>\n",
       "      <td>No</td>\n",
       "    </tr>\n",
       "    <tr>\n",
       "      <th>2</th>\n",
       "      <td>Yes</td>\n",
       "      <td>No</td>\n",
       "      <td>No</td>\n",
       "      <td>No</td>\n",
       "      <td>No</td>\n",
       "    </tr>\n",
       "    <tr>\n",
       "      <th>3</th>\n",
       "      <td>No</td>\n",
       "      <td>Yes</td>\n",
       "      <td>Yes</td>\n",
       "      <td>No</td>\n",
       "      <td>No</td>\n",
       "    </tr>\n",
       "    <tr>\n",
       "      <th>4</th>\n",
       "      <td>No</td>\n",
       "      <td>No</td>\n",
       "      <td>No</td>\n",
       "      <td>No</td>\n",
       "      <td>No</td>\n",
       "    </tr>\n",
       "    <tr>\n",
       "      <th>...</th>\n",
       "      <td>...</td>\n",
       "      <td>...</td>\n",
       "      <td>...</td>\n",
       "      <td>...</td>\n",
       "      <td>...</td>\n",
       "    </tr>\n",
       "    <tr>\n",
       "      <th>7038</th>\n",
       "      <td>No</td>\n",
       "      <td>Yes</td>\n",
       "      <td>Yes</td>\n",
       "      <td>Yes</td>\n",
       "      <td>Yes</td>\n",
       "    </tr>\n",
       "    <tr>\n",
       "      <th>7039</th>\n",
       "      <td>Yes</td>\n",
       "      <td>Yes</td>\n",
       "      <td>No</td>\n",
       "      <td>Yes</td>\n",
       "      <td>Yes</td>\n",
       "    </tr>\n",
       "    <tr>\n",
       "      <th>7040</th>\n",
       "      <td>No</td>\n",
       "      <td>No</td>\n",
       "      <td>No</td>\n",
       "      <td>No</td>\n",
       "      <td>No</td>\n",
       "    </tr>\n",
       "    <tr>\n",
       "      <th>7041</th>\n",
       "      <td>No</td>\n",
       "      <td>No</td>\n",
       "      <td>No</td>\n",
       "      <td>No</td>\n",
       "      <td>No</td>\n",
       "    </tr>\n",
       "    <tr>\n",
       "      <th>7042</th>\n",
       "      <td>No</td>\n",
       "      <td>Yes</td>\n",
       "      <td>Yes</td>\n",
       "      <td>Yes</td>\n",
       "      <td>Yes</td>\n",
       "    </tr>\n",
       "  </tbody>\n",
       "</table>\n",
       "<p>7043 rows × 5 columns</p>\n",
       "</div>"
      ],
      "text/plain": [
       "     OnlineBackup DeviceProtection TechSupport StreamingTV StreamingMovies\n",
       "0             Yes               No          No          No              No\n",
       "1              No              Yes          No          No              No\n",
       "2             Yes               No          No          No              No\n",
       "3              No              Yes         Yes          No              No\n",
       "4              No               No          No          No              No\n",
       "...           ...              ...         ...         ...             ...\n",
       "7038           No              Yes         Yes         Yes             Yes\n",
       "7039          Yes              Yes          No         Yes             Yes\n",
       "7040           No               No          No          No              No\n",
       "7041           No               No          No          No              No\n",
       "7042           No              Yes         Yes         Yes             Yes\n",
       "\n",
       "[7043 rows x 5 columns]"
      ]
     },
     "execution_count": 25,
     "metadata": {},
     "output_type": "execute_result"
    }
   ],
   "source": [
    "df[['OnlineBackup', 'DeviceProtection', 'TechSupport', 'StreamingTV', 'StreamingMovies']]"
   ]
  },
  {
   "cell_type": "markdown",
   "id": "5da469d2",
   "metadata": {},
   "source": [
    "부가서비스 사용 : 온락인백업서비스/기기보험서비스/기술지원서비스/스트리밍TV/스트리밍영화 서비스\n"
   ]
  },
  {
   "cell_type": "code",
   "execution_count": 29,
   "id": "33c56705",
   "metadata": {},
   "outputs": [
    {
     "name": "stdout",
     "output_type": "stream",
     "text": [
      "                     count   sum  ratio  lift\n",
      "OnlineBackup                                 \n",
      "No                    3088  1233   39.9   1.5\n",
      "Yes                   2429   523   21.5   0.8\n",
      "No internet service   1526   113    7.4   0.3\n",
      "------------------------------------------------\n",
      "                     count   sum  ratio  lift\n",
      "DeviceProtection                             \n",
      "No                    3095  1211   39.1   1.5\n",
      "Yes                   2422   545   22.5   0.8\n",
      "No internet service   1526   113    7.4   0.3\n",
      "------------------------------------------------\n",
      "                     count   sum  ratio  lift\n",
      "TechSupport                                  \n",
      "No                    3473  1446   41.6   1.6\n",
      "Yes                   2044   310   15.2   0.6\n",
      "No internet service   1526   113    7.4   0.3\n",
      "------------------------------------------------\n",
      "                     count  sum  ratio  lift\n",
      "StreamingTV                                 \n",
      "No                    2810  942   33.5   1.3\n",
      "Yes                   2707  814   30.1   1.1\n",
      "No internet service   1526  113    7.4   0.3\n",
      "------------------------------------------------\n",
      "                     count  sum  ratio  lift\n",
      "StreamingMovies                             \n",
      "No                    2785  938   33.7   1.3\n",
      "Yes                   2732  818   29.9   1.1\n",
      "No internet service   1526  113    7.4   0.3\n",
      "------------------------------------------------\n"
     ]
    },
    {
     "data": {
      "image/png": "[encoded data removed]",
      "text/plain": [
       "<Figure size 1000x300 with 1 Axes>"
      ]
     },
     "metadata": {},
     "output_type": "display_data"
    },
    {
     "data": {
      "image/png": "[encoded data removed]",
      "text/plain": [
       "<Figure size 1000x300 with 1 Axes>"
      ]
     },
     "metadata": {},
     "output_type": "display_data"
    },
    {
     "data": {
      "image/png": "[encoded data removed]",
      "text/plain": [
       "<Figure size 1000x300 with 1 Axes>"
      ]
     },
     "metadata": {},
     "output_type": "display_data"
    },
    {
     "data": {
      "image/png": "[encoded data removed]",
      "text/plain": [
       "<Figure size 1000x300 with 1 Axes>"
      ]
     },
     "metadata": {},
     "output_type": "display_data"
    },
    {
     "data": {
      "image/png": "[encoded data removed]",
      "text/plain": [
       "<Figure size 1000x300 with 1 Axes>"
      ]
     },
     "metadata": {},
     "output_type": "display_data"
    }
   ],
   "source": [
    "col_list = ['OnlineBackup', 'DeviceProtection', 'TechSupport', 'StreamingTV', 'StreamingMovies']\n",
    "\n",
    "for i in col_list :\n",
    "    val = i\n",
    "\n",
    "    sns.catplot(x=val, hue=\"Churn\", kind=\"count\",palette=\"pastel\", edgecolor=\".6\",data=df);\n",
    "    plt.gcf().set_size_inches(10, 3)\n",
    "\n",
    "\n",
    "    df_gp = df.groupby(val)['Churn'].agg(['count','sum'])\n",
    "    df_gp['ratio'] = round((df_gp['sum'] / df_gp['count']) * 100, 1)\n",
    "    df_gp = df_gp.sort_values(by=['ratio'], ascending=False)\n",
    "    df_gp['lift'] = round(df_gp['ratio'] / ((df['Churn'].sum() / len(df))*100) ,1)\n",
    "    print(df_gp)\n",
    "    print(\"------------------------------------------------\")"
   ]
  },
  {
   "cell_type": "markdown",
   "id": "3eeee7a5",
   "metadata": {},
   "source": [
    "부가서비스 사용(온락인백업서비스/기기보험서비스/기술지원서비스/스트리밍TV/스트리밍영화 서비스)을 하지 않는 고객들이 전부 가장 이탈율이 높은 것을 확인할 수 있다"
   ]
  },
  {
   "cell_type": "code",
   "execution_count": 27,
   "id": "8acfda04",
   "metadata": {},
   "outputs": [
    {
     "data": {
      "text/html": [
       "<div>\n",
       "<style scoped>\n",
       "    .dataframe tbody tr th:only-of-type {\n",
       "        vertical-align: middle;\n",
       "    }\n",
       "\n",
       "    .dataframe tbody tr th {\n",
       "        vertical-align: top;\n",
       "    }\n",
       "\n",
       "    .dataframe thead th {\n",
       "        text-align: right;\n",
       "    }\n",
       "</style>\n",
       "<table border=\"1\" class=\"dataframe\">\n",
       "  <thead>\n",
       "    <tr style=\"text-align: right;\">\n",
       "      <th></th>\n",
       "      <th>OnlineBackup</th>\n",
       "      <th>DeviceProtection</th>\n",
       "      <th>TechSupport</th>\n",
       "      <th>StreamingTV</th>\n",
       "      <th>StreamingMovies</th>\n",
       "    </tr>\n",
       "  </thead>\n",
       "  <tbody>\n",
       "    <tr>\n",
       "      <th>4</th>\n",
       "      <td>No</td>\n",
       "      <td>No</td>\n",
       "      <td>No</td>\n",
       "      <td>No</td>\n",
       "      <td>No</td>\n",
       "    </tr>\n",
       "    <tr>\n",
       "      <th>7</th>\n",
       "      <td>No</td>\n",
       "      <td>No</td>\n",
       "      <td>No</td>\n",
       "      <td>No</td>\n",
       "      <td>No</td>\n",
       "    </tr>\n",
       "    <tr>\n",
       "      <th>10</th>\n",
       "      <td>No</td>\n",
       "      <td>No</td>\n",
       "      <td>No</td>\n",
       "      <td>No</td>\n",
       "      <td>No</td>\n",
       "    </tr>\n",
       "    <tr>\n",
       "      <th>34</th>\n",
       "      <td>No</td>\n",
       "      <td>No</td>\n",
       "      <td>No</td>\n",
       "      <td>No</td>\n",
       "      <td>No</td>\n",
       "    </tr>\n",
       "    <tr>\n",
       "      <th>36</th>\n",
       "      <td>No</td>\n",
       "      <td>No</td>\n",
       "      <td>No</td>\n",
       "      <td>No</td>\n",
       "      <td>No</td>\n",
       "    </tr>\n",
       "    <tr>\n",
       "      <th>...</th>\n",
       "      <td>...</td>\n",
       "      <td>...</td>\n",
       "      <td>...</td>\n",
       "      <td>...</td>\n",
       "      <td>...</td>\n",
       "    </tr>\n",
       "    <tr>\n",
       "      <th>7026</th>\n",
       "      <td>No</td>\n",
       "      <td>No</td>\n",
       "      <td>No</td>\n",
       "      <td>No</td>\n",
       "      <td>No</td>\n",
       "    </tr>\n",
       "    <tr>\n",
       "      <th>7032</th>\n",
       "      <td>No</td>\n",
       "      <td>No</td>\n",
       "      <td>No</td>\n",
       "      <td>No</td>\n",
       "      <td>No</td>\n",
       "    </tr>\n",
       "    <tr>\n",
       "      <th>7033</th>\n",
       "      <td>No</td>\n",
       "      <td>No</td>\n",
       "      <td>No</td>\n",
       "      <td>No</td>\n",
       "      <td>No</td>\n",
       "    </tr>\n",
       "    <tr>\n",
       "      <th>7040</th>\n",
       "      <td>No</td>\n",
       "      <td>No</td>\n",
       "      <td>No</td>\n",
       "      <td>No</td>\n",
       "      <td>No</td>\n",
       "    </tr>\n",
       "    <tr>\n",
       "      <th>7041</th>\n",
       "      <td>No</td>\n",
       "      <td>No</td>\n",
       "      <td>No</td>\n",
       "      <td>No</td>\n",
       "      <td>No</td>\n",
       "    </tr>\n",
       "  </tbody>\n",
       "</table>\n",
       "<p>868 rows × 5 columns</p>\n",
       "</div>"
      ],
      "text/plain": [
       "     OnlineBackup DeviceProtection TechSupport StreamingTV StreamingMovies\n",
       "4              No               No          No          No              No\n",
       "7              No               No          No          No              No\n",
       "10             No               No          No          No              No\n",
       "34             No               No          No          No              No\n",
       "36             No               No          No          No              No\n",
       "...           ...              ...         ...         ...             ...\n",
       "7026           No               No          No          No              No\n",
       "7032           No               No          No          No              No\n",
       "7033           No               No          No          No              No\n",
       "7040           No               No          No          No              No\n",
       "7041           No               No          No          No              No\n",
       "\n",
       "[868 rows x 5 columns]"
      ]
     },
     "execution_count": 27,
     "metadata": {},
     "output_type": "execute_result"
    }
   ],
   "source": [
    "df_no = df[(df['OnlineBackup'] =='No') & (df['DeviceProtection'] =='No') & (df['TechSupport'] =='No') & (df['StreamingTV'] =='No') & (df['StreamingMovies'] =='No')]\n",
    "df_no[col_list]"
   ]
  },
  {
   "cell_type": "markdown",
   "id": "24f94897",
   "metadata": {},
   "source": [
    "부가서비스를 모두 이용하지 않는 고객의 이탈률 분석을 실시해본다"
   ]
  },
  {
   "cell_type": "code",
   "execution_count": 28,
   "id": "cee480dc",
   "metadata": {},
   "outputs": [
    {
     "name": "stdout",
     "output_type": "stream",
     "text": [
      "부가서비스 전부 No인 고객 이탈율 :  47.69585253456221\n"
     ]
    }
   ],
   "source": [
    "print(\"부가서비스 전부 No인 고객 이탈율 : \", (df_no['Churn'].sum() / len(df_no))*100)"
   ]
  },
  {
   "cell_type": "markdown",
   "id": "f8a67ca7",
   "metadata": {},
   "source": [
    "부가서비스를 모두 이용하지 않는 고객의 이탈률 분석을 실시한 결과, 평균 이탈율에 비해 거의 2배가 차이 나는 이탈율인 47.6%이다"
   ]
  },
  {
   "cell_type": "markdown",
   "id": "23ed3c73",
   "metadata": {},
   "source": [
    "## 이탈 고객 특성 분석(계약 형태, 요금)"
   ]
  },
  {
   "cell_type": "code",
   "execution_count": 30,
   "id": "8f5331b5",
   "metadata": {},
   "outputs": [
    {
     "data": {
      "text/html": [
       "<div>\n",
       "<style scoped>\n",
       "    .dataframe tbody tr th:only-of-type {\n",
       "        vertical-align: middle;\n",
       "    }\n",
       "\n",
       "    .dataframe tbody tr th {\n",
       "        vertical-align: top;\n",
       "    }\n",
       "\n",
       "    .dataframe thead th {\n",
       "        text-align: right;\n",
       "    }\n",
       "</style>\n",
       "<table border=\"1\" class=\"dataframe\">\n",
       "  <thead>\n",
       "    <tr style=\"text-align: right;\">\n",
       "      <th></th>\n",
       "      <th>Contract</th>\n",
       "      <th>PaperlessBilling</th>\n",
       "      <th>PaymentMethod</th>\n",
       "    </tr>\n",
       "  </thead>\n",
       "  <tbody>\n",
       "    <tr>\n",
       "      <th>0</th>\n",
       "      <td>Month-to-month</td>\n",
       "      <td>Yes</td>\n",
       "      <td>Electronic check</td>\n",
       "    </tr>\n",
       "    <tr>\n",
       "      <th>1</th>\n",
       "      <td>One year</td>\n",
       "      <td>No</td>\n",
       "      <td>Mailed check</td>\n",
       "    </tr>\n",
       "    <tr>\n",
       "      <th>2</th>\n",
       "      <td>Month-to-month</td>\n",
       "      <td>Yes</td>\n",
       "      <td>Mailed check</td>\n",
       "    </tr>\n",
       "    <tr>\n",
       "      <th>3</th>\n",
       "      <td>One year</td>\n",
       "      <td>No</td>\n",
       "      <td>Bank transfer (automatic)</td>\n",
       "    </tr>\n",
       "    <tr>\n",
       "      <th>4</th>\n",
       "      <td>Month-to-month</td>\n",
       "      <td>Yes</td>\n",
       "      <td>Electronic check</td>\n",
       "    </tr>\n",
       "    <tr>\n",
       "      <th>...</th>\n",
       "      <td>...</td>\n",
       "      <td>...</td>\n",
       "      <td>...</td>\n",
       "    </tr>\n",
       "    <tr>\n",
       "      <th>7038</th>\n",
       "      <td>One year</td>\n",
       "      <td>Yes</td>\n",
       "      <td>Mailed check</td>\n",
       "    </tr>\n",
       "    <tr>\n",
       "      <th>7039</th>\n",
       "      <td>One year</td>\n",
       "      <td>Yes</td>\n",
       "      <td>Credit card (automatic)</td>\n",
       "    </tr>\n",
       "    <tr>\n",
       "      <th>7040</th>\n",
       "      <td>Month-to-month</td>\n",
       "      <td>Yes</td>\n",
       "      <td>Electronic check</td>\n",
       "    </tr>\n",
       "    <tr>\n",
       "      <th>7041</th>\n",
       "      <td>Month-to-month</td>\n",
       "      <td>Yes</td>\n",
       "      <td>Mailed check</td>\n",
       "    </tr>\n",
       "    <tr>\n",
       "      <th>7042</th>\n",
       "      <td>Two year</td>\n",
       "      <td>Yes</td>\n",
       "      <td>Bank transfer (automatic)</td>\n",
       "    </tr>\n",
       "  </tbody>\n",
       "</table>\n",
       "<p>7043 rows × 3 columns</p>\n",
       "</div>"
      ],
      "text/plain": [
       "            Contract PaperlessBilling              PaymentMethod\n",
       "0     Month-to-month              Yes           Electronic check\n",
       "1           One year               No               Mailed check\n",
       "2     Month-to-month              Yes               Mailed check\n",
       "3           One year               No  Bank transfer (automatic)\n",
       "4     Month-to-month              Yes           Electronic check\n",
       "...              ...              ...                        ...\n",
       "7038        One year              Yes               Mailed check\n",
       "7039        One year              Yes    Credit card (automatic)\n",
       "7040  Month-to-month              Yes           Electronic check\n",
       "7041  Month-to-month              Yes               Mailed check\n",
       "7042        Two year              Yes  Bank transfer (automatic)\n",
       "\n",
       "[7043 rows x 3 columns]"
      ]
     },
     "execution_count": 30,
     "metadata": {},
     "output_type": "execute_result"
    }
   ],
   "source": [
    "df[['Contract', 'PaperlessBilling', 'PaymentMethod']]"
   ]
  },
  {
   "cell_type": "markdown",
   "id": "d67472ec",
   "metadata": {},
   "source": [
    "계약형태, 요금 : 계약기간/종이없는청구/결제수단"
   ]
  },
  {
   "cell_type": "code",
   "execution_count": 32,
   "id": "67d28e6c",
   "metadata": {},
   "outputs": [
    {
     "name": "stdout",
     "output_type": "stream",
     "text": [
      "                count   sum  ratio  lift\n",
      "Contract                                \n",
      "Month-to-month   3875  1655   42.7   1.6\n",
      "One year         1473   166   11.3   0.4\n",
      "Two year         1695    48    2.8   0.1\n",
      "------------------------------------------------\n",
      "                  count   sum  ratio  lift\n",
      "PaperlessBilling                          \n",
      "Yes                4171  1400   33.6   1.3\n",
      "No                 2872   469   16.3   0.6\n",
      "------------------------------------------------\n",
      "                           count   sum  ratio  lift\n",
      "PaymentMethod                                      \n",
      "Electronic check            2365  1071   45.3   1.7\n",
      "Mailed check                1612   308   19.1   0.7\n",
      "Bank transfer (automatic)   1544   258   16.7   0.6\n",
      "Credit card (automatic)     1522   232   15.2   0.6\n",
      "------------------------------------------------\n"
     ]
    },
    {
     "data": {
      "image/png": "[encoded data removed]",
      "text/plain": [
       "<Figure size 1000x300 with 1 Axes>"
      ]
     },
     "metadata": {},
     "output_type": "display_data"
    },
    {
     "data": {
      "image/png": "[encoded data removed]",
      "text/plain": [
       "<Figure size 1000x300 with 1 Axes>"
      ]
     },
     "metadata": {},
     "output_type": "display_data"
    },
    {
     "data": {
      "image/png": "[encoded data removed]",
      "text/plain": [
       "<Figure size 1000x300 with 1 Axes>"
      ]
     },
     "metadata": {},
     "output_type": "display_data"
    }
   ],
   "source": [
    "col_list = ['Contract', 'PaperlessBilling', 'PaymentMethod']\n",
    "\n",
    "for i in col_list :\n",
    "    val = i\n",
    "\n",
    "    sns.catplot(x=val, hue=\"Churn\", kind=\"count\",palette=\"pastel\", edgecolor=\".6\",data=df);\n",
    "    plt.gcf().set_size_inches(10, 3)\n",
    "    \n",
    "    df_gp = df.groupby(val)['Churn'].agg(['count','sum'])\n",
    "    df_gp['ratio'] = round((df_gp['sum'] / df_gp['count']) * 100, 1)\n",
    "    df_gp = df_gp.sort_values(by=['ratio'], ascending=False)\n",
    "    df_gp['lift'] = round(df_gp['ratio'] / ((df['Churn'].sum() / len(df))*100) ,1)\n",
    "    print(df_gp)\n",
    "    print(\"------------------------------------------------\")"
   ]
  },
  {
   "cell_type": "markdown",
   "id": "53c38c49",
   "metadata": {},
   "source": [
    "계약형태, 요금  \n",
    "\n",
    "계약기간 - 월 단위  \n",
    "\n",
    "종이없는청구 - 종이없는청구  \n",
    "\n",
    "결제수단 - 이체크(전자수표)  \n",
    "\n",
    "위의 고객들이 가장 이탈율이 높은 것을 확인할 수 있다"
   ]
  },
  {
   "cell_type": "markdown",
   "id": "9a5df420",
   "metadata": {},
   "source": [
    "## ML 활용 이탈 고객 예측"
   ]
  },
  {
   "cell_type": "code",
   "execution_count": 34,
   "id": "15008104",
   "metadata": {},
   "outputs": [
    {
     "name": "stdout",
     "output_type": "stream",
     "text": [
      "categoical_list : ['customerID', 'gender', 'Partner', 'Dependents', 'PhoneService', 'MultipleLines', 'InternetService', 'OnlineSecurity', 'OnlineBackup', 'DeviceProtection', 'TechSupport', 'StreamingTV', 'StreamingMovies', 'Contract', 'PaperlessBilling', 'PaymentMethod', 'TotalCharges', 'tenure_gp', 'MonthlyCharges_gp']\n",
      "\n",
      "numeric_list : ['SeniorCitizen', 'tenure', 'MonthlyCharges', 'Churn']\n"
     ]
    }
   ],
   "source": [
    "numeric_list=[]\n",
    "categoical_list=[]\n",
    "\n",
    "for i in df.columns :\n",
    "    if df[i].dtypes == 'O' :\n",
    "        categoical_list.append(i)\n",
    "    else :\n",
    "        numeric_list.append(i)\n",
    "\n",
    "print(\"categoical_list :\", categoical_list)\n",
    "print(\"\")\n",
    "print(\"numeric_list :\", numeric_list)"
   ]
  },
  {
   "cell_type": "code",
   "execution_count": 35,
   "id": "0ae6617b",
   "metadata": {},
   "outputs": [
    {
     "name": "stdout",
     "output_type": "stream",
     "text": [
      "(4930, 19)\n",
      "(4930,)\n",
      "(2113, 19)\n",
      "(2113,)\n"
     ]
    }
   ],
   "source": [
    "from sklearn.model_selection import train_test_split\n",
    "from sklearn.ensemble import RandomForestClassifier\n",
    "from sklearn import metrics\n",
    "\n",
    "X=df.drop(['customerID', 'tenure_gp', 'MonthlyCharges_gp', 'Churn'], axis=1)\n",
    "Y=df['Churn']\n",
    "\n",
    "x_train, x_test, y_train, y_test = train_test_split(X, Y, test_size=0.3, stratify=Y)\n",
    "\n",
    "print(x_train.shape)\n",
    "print(y_train.shape)\n",
    "\n",
    "print(x_test.shape)\n",
    "print(y_test.shape)"
   ]
  },
  {
   "cell_type": "markdown",
   "id": "6fb4b8e1",
   "metadata": {},
   "source": [
    "- 데이터 분리할 때, 분류분석은 stratify를 통해 층화추출하고 회귀분석은 동일한 비율로 나눌수가 없기 때문에 stratify 옵션을 사용하지 않는다\n",
    "\n",
    "- 보통 데이터 행의 개수와 비슷한 차원이 있는 컬럼은 제거하고 모델링 하는 것이 좋다. 예를 들어, id 같은 것들. 각각의 값이 전부 유니크하면 제거한다\n",
    "\n",
    "- 1개 컬럼에 모든 값이 동일하면 데이터 분리할 때 제거하는 것이 좋다\n",
    "\n",
    "- 새로 만든 파생변수나 기존 컬럼과 동일한 의미의 컬럼들도 제거한다(단, 유의미한 변수라고 생각하면 그대로 둔다)\n",
    "\n",
    "- 범주형 변수의 값이 3-4개가 적당하고 20개가 넘는 변수는 보통 삭제하고 모델링하는게 좋은데, 처음에는 어떤 변수가 중요한지 모르니 일단 전부 투입시키고 하는게 좋다. 이러한 경우, 범주형 변수들을 인코딩 하면 차원이 워낙 많다보니까 오류 방지 차원에서 train과 test의 값을 합쳐서 만들고 fit 시켜줘야한다\n",
    "\n",
    "- 분석 시간이 많다 = 범주형 변수들을 하나하나 제거해보면서 모델링\n",
    "\n",
    "- 분석 시간이 없다 = 효율성을 위해 train과 test의 값을 한번에 fit해서 모델링"
   ]
  },
  {
   "cell_type": "code",
   "execution_count": 36,
   "id": "9947b9fe",
   "metadata": {},
   "outputs": [],
   "source": [
    "categoical_list.remove('tenure_gp')\n",
    "categoical_list.remove('MonthlyCharges_gp')\n",
    "categoical_list.remove('customerID')"
   ]
  },
  {
   "cell_type": "code",
   "execution_count": 37,
   "id": "f1e79d96",
   "metadata": {},
   "outputs": [
    {
     "name": "stdout",
     "output_type": "stream",
     "text": [
      "gender\n",
      "Partner\n",
      "Dependents\n",
      "PhoneService\n",
      "MultipleLines\n",
      "InternetService\n",
      "OnlineSecurity\n",
      "OnlineBackup\n",
      "DeviceProtection\n",
      "TechSupport\n",
      "StreamingTV\n",
      "StreamingMovies\n",
      "Contract\n",
      "PaperlessBilling\n",
      "PaymentMethod\n",
      "TotalCharges\n"
     ]
    }
   ],
   "source": [
    "from sklearn.preprocessing import LabelEncoder\n",
    "\n",
    "for col in categoical_list:\n",
    "    print(col)\n",
    "    le = LabelEncoder()\n",
    "    le.fit(list(x_train[col].values) + list(x_test[col].values))\n",
    "    x_train[col] = le.transform(x_train[col])\n",
    "    x_test[col] = le.transform(x_test[col])"
   ]
  },
  {
   "cell_type": "markdown",
   "id": "3b85b8ac",
   "metadata": {},
   "source": [
    "범주형 변수는 One-hot-encoding 또는 Label-encoding을 통해 숫자형 변수로 변경해야한다. One-hot-encoding은 차원이 많은 변수에는 적절하지 않고, Label-encoding은 차원이 많은 변수에 유용하기 때문에 Label-encoding을 진행한다"
   ]
  },
  {
   "cell_type": "code",
   "execution_count": 38,
   "id": "809dca21",
   "metadata": {},
   "outputs": [
    {
     "name": "stdout",
     "output_type": "stream",
     "text": [
      "              precision    recall  f1-score   support\n",
      "\n",
      "           0       0.81      0.95      0.87      3622\n",
      "           1       0.74      0.36      0.49      1308\n",
      "\n",
      "    accuracy                           0.80      4930\n",
      "   macro avg       0.77      0.66      0.68      4930\n",
      "weighted avg       0.79      0.80      0.77      4930\n",
      "\n",
      "              precision    recall  f1-score   support\n",
      "\n",
      "           0       0.80      0.95      0.87      1552\n",
      "           1       0.69      0.34      0.45       561\n",
      "\n",
      "    accuracy                           0.78      2113\n",
      "   macro avg       0.74      0.64      0.66      2113\n",
      "weighted avg       0.77      0.78      0.76      2113\n",
      "\n"
     ]
    }
   ],
   "source": [
    "from sklearn.metrics import classification_report\n",
    "rfc = RandomForestClassifier(random_state = 2023, max_depth=4, n_estimators=1000)\n",
    "rfc.fit(x_train, y_train)\n",
    "\n",
    "y_pred_train = rfc.predict(x_train)\n",
    "y_pred_test = rfc.predict(x_test)\n",
    "\n",
    "print(classification_report(y_train, y_pred_train))\n",
    "print(classification_report(y_test, y_pred_test))"
   ]
  },
  {
   "cell_type": "markdown",
   "id": "434a826f",
   "metadata": {},
   "source": [
    "1. precision  \n",
    "\n",
    "- 통신사 이탈할 것 같은 고객들을 예측한 고객들 중에서 실제로 통신사 이탈한 고객의 확률\n",
    "\n",
    "- 장점 : 최대한 많은 통신사 이탈 고객들을 후보리스트로 만들어서 관리가 가능하며, 고객 이탈 방어가 가능하다.\n",
    "\n",
    "- 단점 : 실제로 그렇지 않은 고객들이 포함될 수 있다.\n",
    "\n",
    "\n",
    "2. recall  \n",
    "\n",
    "- 실제로 통신사 이탈한 고객들중에서 통신사 이탈 예측을 맞춘 확률\n",
    "\n",
    "- 장점 : 실제로 통신사 이탈할것같은 고객들만 관리할 수 있다.\n",
    "\n",
    "- 단점 : 통신사 이탈 고객들이 적어서 모수가 작아지기 때문에 고객 이탈 방어 효과가 나타나지 않을 수 있다.\n",
    "\n",
    "3. support\n",
    "\n",
    "- 561명 중에 약 190명을 맞춰서 recall 값이 0.34값이 나왔다\n",
    "\n",
    "- y_pred_test 1의 값인 274명중에 약 190명이 존재한다는 의미이다(recall)\n",
    "\n",
    "- 561명 중에 274명이 예측된 고객. 274명 중에 69%인 약 190명이 실제 이탈한 고객의 수(precision)"
   ]
  },
  {
   "cell_type": "code",
   "execution_count": 39,
   "id": "4e88a755",
   "metadata": {},
   "outputs": [
    {
     "data": {
      "text/plain": [
       "0    1839\n",
       "1     274\n",
       "dtype: int64"
      ]
     },
     "execution_count": 39,
     "metadata": {},
     "output_type": "execute_result"
    }
   ],
   "source": [
    "pd.Series(y_pred_test).value_counts()"
   ]
  },
  {
   "cell_type": "code",
   "execution_count": 40,
   "id": "7d265bc8",
   "metadata": {},
   "outputs": [
    {
     "name": "stdout",
     "output_type": "stream",
     "text": [
      "roc_score_train : 0.8534082619466157\n",
      "roc_score_test : 0.8347385697484242\n"
     ]
    }
   ],
   "source": [
    "from sklearn.metrics import roc_auc_score\n",
    "\n",
    "y_pred_train_proba = rfc.predict_proba(x_train)[:, 1] \n",
    "y_pred_test_proba = rfc.predict_proba(x_test)[:, 1] \n",
    "\n",
    "\n",
    "roc_score_train = roc_auc_score(y_train, y_pred_train_proba)\n",
    "roc_score_test = roc_auc_score(y_test, y_pred_test_proba)\n",
    "\n",
    "print(\"roc_score_train :\", roc_score_train)\n",
    "print(\"roc_score_test :\", roc_score_test)"
   ]
  },
  {
   "cell_type": "markdown",
   "id": "dc7fdc24",
   "metadata": {},
   "source": [
    "4. roc_auc_score\n",
    "\n",
    "- 이진 분류기의 성능을 평가할때 사용하는 지표로 100에 가까울 수록 모델 성능이 좋은 것이라고 할 수 있다.\n",
    "\n",
    "- 다양한 threshold에 대한 이진분류기의 성능을 한번에 표시한 것이다.\n",
    "\n",
    "- 여기서도 train과 test의 roc_score값이 차이가 거의 없으므로 과적합이 발생하지 않았다\n",
    "\n",
    "- 85에 가까운 값이 나온 것은 좋은 모델이라고 할 수 있다.\n",
    "\n",
    "5. predict\n",
    "\n",
    "- 0과 1로 나누는 것(0.5 이하는 0, 초과는 1)\n",
    "\n",
    "6. predict_proba\n",
    "\n",
    "- 0일 확률과 1일 확률로 나누는 것"
   ]
  },
  {
   "cell_type": "code",
   "execution_count": 41,
   "id": "b80784c6",
   "metadata": {},
   "outputs": [],
   "source": [
    "from sklearn.metrics import roc_curve\n",
    "def roc_curve_plot(y_test , pred_proba_c1):\n",
    "    fprs , tprs , thresholds = roc_curve(y_test ,pred_proba_c1)\n",
    "\n",
    "    plt.plot(fprs , tprs, label='ROC')\n",
    "    plt.plot([0, 1], [0, 1], 'k--', label='Random', color='red')\n",
    "  \n",
    "    start, end = plt.xlim()\n",
    "    plt.xticks(np.round(np.arange(start, end, 0.1),2))\n",
    "    plt.xlim(0,1)\n",
    "    plt.ylim(0,1)\n",
    "    plt.xlabel('FPR( 1 - Sensitivity )')\n",
    "    plt.ylabel('TPR( Recall )')\n",
    "    plt.legend()\n",
    "    plt.show()"
   ]
  },
  {
   "cell_type": "markdown",
   "id": "100b70a1",
   "metadata": {},
   "source": [
    "roc_curve_plot에서 임곗값에 따른 FPR, TPR 값을 반환 받는다  \n",
    "\n",
    "- FPR : 실제로는 음성인 데이터 중에서 분류기가 음성이 아니라 양성이라고 판별한 데이터의 비율(1 - 민감도)\n",
    "\n",
    "- TPR : recall\n",
    "\n",
    "- roc curve를 plot 곡선으로 그린다\n",
    "\n",
    "- 가운데 대각선 직선을 그린다(기준선)"
   ]
  },
  {
   "cell_type": "code",
   "execution_count": 42,
   "id": "a603b79f",
   "metadata": {},
   "outputs": [
    {
     "data": {
      "image/png": "[encoded data removed]",
      "text/plain": [
       "<Figure size 640x480 with 1 Axes>"
      ]
     },
     "metadata": {},
     "output_type": "display_data"
    },
    {
     "data": {
      "image/png": "[encoded data removed]",
      "text/plain": [
       "<Figure size 640x480 with 1 Axes>"
      ]
     },
     "metadata": {},
     "output_type": "display_data"
    }
   ],
   "source": [
    "roc_curve_plot(y_train, y_pred_train_proba)\n",
    "roc_curve_plot(y_test, y_pred_test_proba)"
   ]
  },
  {
   "cell_type": "code",
   "execution_count": 43,
   "id": "180324ff",
   "metadata": {},
   "outputs": [
    {
     "data": {
      "image/png": "[encoded data removed]",
      "text/plain": [
       "<Figure size 800x600 with 1 Axes>"
      ]
     },
     "metadata": {},
     "output_type": "display_data"
    }
   ],
   "source": [
    "ftr_importances_values = rfc.feature_importances_\n",
    "ftr_importances = pd.Series(ftr_importances_values, index = x_train.columns)\n",
    "ftr_top20 = ftr_importances.sort_values(ascending=False)[:31]\n",
    "\n",
    "plt.figure(figsize=(8,6))\n",
    "plt.title('Feature Importances')\n",
    "sns.barplot(x=ftr_top20, y=ftr_top20.index)\n",
    "plt.show()"
   ]
  },
  {
   "cell_type": "markdown",
   "id": "0fd862da",
   "metadata": {},
   "source": [
    "Feature IMP 분석을 통해 중요변수를 파악한다. 위의 상위 변수들을 살펴보면, Contract(계약기간)가 통신사 이탈 고객을 예측하는데 가장 중요한 변수임을 확인할 수 있다. 따라서 Contract(계약기간)를 주의 깊게 살펴가면서 예측을 진행하는 것이 좋은 판단이다\n",
    "\n",
    "SeniorCitizen부터 하위 변수들은 제거하고 다시 모델링 해보는 것도 좋다"
   ]
  },
  {
   "cell_type": "code",
   "execution_count": 46,
   "id": "de51523c",
   "metadata": {},
   "outputs": [
    {
     "name": "stdout",
     "output_type": "stream",
     "text": [
      "                count   sum  ratio  lift\n",
      "Contract                                \n",
      "Month-to-month   3875  1655   42.7   1.6\n",
      "One year         1473   166   11.3   0.4\n",
      "Two year         1695    48    2.8   0.1\n"
     ]
    },
    {
     "data": {
      "image/png": "[encoded data removed]",
      "text/plain": [
       "<Figure size 1000x300 with 1 Axes>"
      ]
     },
     "metadata": {},
     "output_type": "display_data"
    }
   ],
   "source": [
    "sns.catplot(x='Contract', hue=\"Churn\", kind=\"count\",palette=\"pastel\", edgecolor=\".6\",data=df);\n",
    "plt.gcf().set_size_inches(10, 3)\n",
    "\n",
    "\n",
    "df_gp = df.groupby('Contract')['Churn'].agg(['count','sum'])\n",
    "df_gp['ratio'] = round((df_gp['sum'] / df_gp['count']) * 100, 1)\n",
    "df_gp['lift'] = round(df_gp['ratio'] / ((df['Churn'].sum() / len(df))*100) ,1)\n",
    "print(df_gp)"
   ]
  },
  {
   "cell_type": "markdown",
   "id": "4fbeb341",
   "metadata": {},
   "source": [
    "가장 중요한 변수에 대해 상세한 탐색을 실시한 결과, 계약기간이 짧을수록 고객 이탈율이 높아지는 것을 확인할 수 있다. 계약기간이 가장 짧은 경우, 무려 42.7%의 고객 이탈율을 가지고 있으므로 가장 중요한 변수임을 알 수 있다\n",
    "\n",
    "성과측정은 기본 베이스 코드(위의 전체 코드)를 가지고 익월 데이터를 추가 업로드해서 성과비교가 필요하다. 예를 들어, 위의 데이터로 예측한 통신사 이탈 고객들을 기반으로 이탈 가능성이 높은 고객에 대해 관리 전/후 이탈율 모니터링을 통해 비교하는것이다.\n",
    "\n",
    "ex) 통신사 이탈 예측 고객 = Contract가 월 단위인 고객들(계약기간이 짧은 고객들)"
   ]
  }
 ],
 "metadata": {
  "kernelspec": {
   "display_name": "Python 3 (ipykernel)",
   "language": "python",
   "name": "python3"
  },
  "language_info": {
   "codemirror_mode": {
    "name": "ipython",
    "version": 3
   },
   "file_extension": ".py",
   "mimetype": "text/x-python",
   "name": "python",
   "nbconvert_exporter": "python",
   "pygments_lexer": "ipython3",
   "version": "3.7.13"
  }
 },
 "nbformat": 4,
 "nbformat_minor": 5
}
